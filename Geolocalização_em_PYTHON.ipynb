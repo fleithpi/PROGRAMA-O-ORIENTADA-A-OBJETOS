{
  "cells": [
    {
      "cell_type": "markdown",
      "metadata": {
        "id": "view-in-github",
        "colab_type": "text"
      },
      "source": [
        "<a href=\"https://colab.research.google.com/github/fleithpi/PROGRAMA-O-ORIENTADA-A-OBJETOS/blob/main/Geolocaliza%C3%A7%C3%A3o_em_PYTHON.ipynb\" target=\"_parent\"><img src=\"https://colab.research.google.com/assets/colab-badge.svg\" alt=\"Open In Colab\"/></a>"
      ]
    },
    {
      "cell_type": "code",
      "execution_count": null,
      "metadata": {
        "id": "EUG3ed04k25i"
      },
      "outputs": [],
      "source": []
    },
    {
      "cell_type": "code",
      "execution_count": 1,
      "metadata": {
        "id": "Q2Q4lu-lAlqE",
        "colab": {
          "base_uri": "https://localhost:8080/"
        },
        "outputId": "dc910d7b-c51b-4dac-e8f6-223b047932dd"
      },
      "outputs": [
        {
          "output_type": "stream",
          "name": "stdout",
          "text": [
            "--- Suas Informações de Localização ---\n",
            "IP: 34.70.248.24\n",
            "Cidade: Council Bluffs\n",
            "Estado: Iowa\n",
            "País: US\n"
          ]
        },
        {
          "output_type": "stream",
          "name": "stderr",
          "text": [
            "/usr/local/lib/python3.12/dist-packages/geocoder/uscensus.py:36: SyntaxWarning: invalid escape sequence '\\d'\n",
            "  match = re.search('^\\d+', self.address, re.UNICODE)\n"
          ]
        }
      ],
      "source": [
        "import requests\n",
        "import geocoder\n",
        "\n",
        "def obter_ip_e_localizacao():\n",
        "    \"\"\"\n",
        "    Descobre o endereço de IP público e sua geolocalização.\n",
        "\n",
        "    Retorna:\n",
        "        dict: Um dicionário contendo o IP e os detalhes da localização.\n",
        "              Retorna um dicionário com uma mensagem de erro se algo falhar.\n",
        "    \"\"\"\n",
        "    try:\n",
        "        # Obter o endereço de IP público\n",
        "        response = requests.get('https://api.ipify.org?format=json')\n",
        "        response.raise_for_status()  # Lança uma exceção para respostas com erro\n",
        "        ip_data = response.json()\n",
        "        meu_ip = ip_data['ip']\n",
        "\n",
        "        # Obter a localização a partir do IP\n",
        "        localizacao = geocoder.ip(meu_ip)\n",
        "\n",
        "        if localizacao.ok:\n",
        "            info = {\n",
        "                \"IP\": meu_ip,\n",
        "                \"Cidade\": localizacao.city,\n",
        "                \"Estado\": localizacao.state,\n",
        "                \"País\": localizacao.country\n",
        "            }\n",
        "            return info\n",
        "        else:\n",
        "            return {\"Erro\": \"Não foi possível obter a geolocalização para o IP.\"}\n",
        "\n",
        "    except requests.exceptions.RequestException as e:\n",
        "        return {\"Erro\": f\"Não foi possível obter o endereço de IP: {e}\"}\n",
        "    except Exception as e:\n",
        "        return {\"Erro\": f\"Ocorreu um erro inesperado: {e}\"}\n",
        "\n",
        "if __name__ == \"__main__\":\n",
        "    dados_localizacao = obter_ip_e_localizacao()\n",
        "\n",
        "    if \"Erro\" in dados_localizacao:\n",
        "        print(dados_localizacao[\"Erro\"])\n",
        "    else:\n",
        "        print(\"--- Suas Informações de Localização ---\")\n",
        "        for chave, valor in dados_localizacao.items():\n",
        "            print(f\"{chave}: {valor}\")"
      ]
    }
  ],
  "metadata": {
    "colab": {
      "provenance": [],
      "authorship_tag": "ABX9TyMQDo8IUrHdNCGgzsa5toAA",
      "include_colab_link": true
    },
    "kernelspec": {
      "display_name": "Python 3",
      "name": "python3"
    },
    "language_info": {
      "name": "python"
    }
  },
  "nbformat": 4,
  "nbformat_minor": 0
}