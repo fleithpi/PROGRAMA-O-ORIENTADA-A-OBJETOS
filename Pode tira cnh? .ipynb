{
 "cells": [
  {
   "cell_type": "code",
   "execution_count": null,
   "metadata": {
    "id": "EUG3ed04k25i"
   },
   "outputs": [],
   "source": []
  },
  {
   "cell_type": "code",
   "execution_count": 11,
   "metadata": {
    "colab": {
     "base_uri": "https://localhost:8080/"
    },
    "executionInfo": {
     "elapsed": 2013,
     "status": "ok",
     "timestamp": 1755046074127,
     "user": {
      "displayName": "Pietro Fleith",
      "userId": "05944635742924198992"
     },
     "user_tz": 180
    },
    "id": "hCtoC6TafyEY",
    "outputId": "811d00f3-ba50-4106-f76c-a1ef7b524221"
   },
   "outputs": [
    {
     "name": "stdout",
     "output_type": "stream",
     "text": [
      "Qual a sua idade?4\n",
      "Você nao pode dirigir\n"
     ]
    }
   ],
   "source": [
    "idade = int(input(\"Qual a sua idade?\"))\n",
    "if idade >= 18:\n",
    "  print(\"Pode tirar a CNH\")\n",
    "elif idade < 18:\n",
    "  print(\"Você nao pode dirigir\")\n"
   ]
  }
 ],
 "metadata": {
  "colab": {
   "authorship_tag": "ABX9TyNpHf7kJrv8Wuc84Qh7IscB",
   "provenance": [
    {
     "file_id": "19WNlLagEAXwX-EA8arZtJ6bcVSzNiySd",
     "timestamp": 1755043246862
    }
   ]
  },
  "kernelspec": {
   "display_name": "Python 3",
   "name": "python3"
  },
  "language_info": {
   "name": "python"
  }
 },
 "nbformat": 4,
 "nbformat_minor": 0
}
