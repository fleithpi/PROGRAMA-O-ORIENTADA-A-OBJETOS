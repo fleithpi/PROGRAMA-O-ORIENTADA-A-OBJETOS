{
  "nbformat": 4,
  "nbformat_minor": 0,
  "metadata": {
    "colab": {
      "provenance": [],
      "authorship_tag": "ABX9TyPvqtSqjC8LLuigdRH2mccX",
      "include_colab_link": true
    },
    "kernelspec": {
      "name": "python3",
      "display_name": "Python 3"
    },
    "language_info": {
      "name": "python"
    }
  },
  "cells": [
    {
      "cell_type": "markdown",
      "metadata": {
        "id": "view-in-github",
        "colab_type": "text"
      },
      "source": [
        "<a href=\"https://colab.research.google.com/github/fleithpi/PROGRAMA-O-ORIENTADA-A-OBJETOS/blob/main/CONTA_METODOS_PROPERTY_GETTER_SETTER.ipynb\" target=\"_parent\"><img src=\"https://colab.research.google.com/assets/colab-badge.svg\" alt=\"Open In Colab\"/></a>"
      ]
    },
    {
      "cell_type": "code",
      "execution_count": 4,
      "metadata": {
        "id": "lwkyQvo0OYPF"
      },
      "outputs": [],
      "source": [
        "import hashlib\n",
        "\n",
        "class usuario:\n",
        "    def __init__(self):\n",
        "      #atributo privado\n",
        "      self.__senha = None\n",
        "\n",
        "    def definir_senha(self, senha):\n",
        "      hash_senha = hashlib.sha256(senha.encode()).hexdigest()\n",
        "      self.__senha = hash_senha\n",
        "      print(\"senha definida com sucesso\")\n",
        "\n",
        "\n"
      ]
    },
    {
      "cell_type": "code",
      "source": [
        "\n",
        "import hashlib\n",
        "import secrets\n",
        "\n",
        "class Usuario:\n",
        "    def __init__(self):\n",
        "        self.__senha = None\n",
        "        self.__salt = secrets.token_hex(16)\n",
        "\n",
        "    def definir_senha(self, senha):\n",
        "        hash_senha = hashlib.pbkdf2_hmac('sha256', senha.encode(), self.__salt.encode(), 100000)\n",
        "        self.__senha = hash_senha.hex()\n",
        "        print(\"Senha definida com sucesso\")\n",
        "\n",
        "    def verificar_senha(self, senha):\n",
        "        hash_senha = hashlib.pbkdf2_hmac('sha256', senha.encode(), self.__salt.encode(), 100000)\n",
        "        return hash_senha.hex() == self.__senha\n",
        "\n",
        "# Exemplo de uso:\n",
        "usuario = Usuario()\n",
        "usuario.definir_senha(\"minha_senha_secreta\")\n",
        "print(usuario.verificar_senha(\"minha_senha_secreta\"))  # Deve imprimir: True\n",
        "print(usuario.verificar_senha(\"senha_errada\"))  # Deve imprimir: False"
      ],
      "metadata": {
        "colab": {
          "base_uri": "https://localhost:8080/"
        },
        "id": "s64LTFtfP6or",
        "outputId": "886cdd3e-7d8a-4e7c-fd08-17d539b2fb71"
      },
      "execution_count": 5,
      "outputs": [
        {
          "output_type": "stream",
          "name": "stdout",
          "text": [
            "Senha definida com sucesso\n",
            "True\n",
            "False\n"
          ]
        }
      ]
    }
  ]
}