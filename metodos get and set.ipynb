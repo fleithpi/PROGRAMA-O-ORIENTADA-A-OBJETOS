{
  "nbformat": 4,
  "nbformat_minor": 0,
  "metadata": {
    "colab": {
      "provenance": [],
      "authorship_tag": "ABX9TyParsVyzadYi+t1xrt6ybxe",
      "include_colab_link": true
    },
    "kernelspec": {
      "name": "python3",
      "display_name": "Python 3"
    },
    "language_info": {
      "name": "python"
    }
  },
  "cells": [
    {
      "cell_type": "markdown",
      "metadata": {
        "id": "view-in-github",
        "colab_type": "text"
      },
      "source": [
        "<a href=\"https://colab.research.google.com/github/fleithpi/PROGRAMA-O-ORIENTADA-A-OBJETOS/blob/CORRE%C3%87AO/metodos%20get%20and%20set.ipynb\" target=\"_parent\"><img src=\"https://colab.research.google.com/assets/colab-badge.svg\" alt=\"Open In Colab\"/></a>"
      ]
    },
    {
      "cell_type": "code",
      "execution_count": 3,
      "metadata": {
        "id": "7QSiHzw5yQJW",
        "colab": {
          "base_uri": "https://localhost:8080/"
        },
        "outputId": "71de7b23-f5b1-46c1-8c8f-cfd11a49f0e6"
      },
      "outputs": [
        {
          "output_type": "stream",
          "name": "stdout",
          "text": [
            "Conta de Ana Paula criada com saldo de R$ 2500.00\n",
            "--------------------\n",
            "O saldo atual da conta de Ana Paula é R$ 2500.00\n",
            "--------------------\n",
            "Depósito de R$ 350.75 realizado com sucesso.\n",
            "O saldo atual da conta de Ana Paula é R$ 2850.75\n",
            "--------------------\n",
            "Saque de R$ 800.00 realizado com sucesso.\n",
            "O saldo atual da conta de Ana Paula é R$ 2050.75\n",
            "--------------------\n",
            "Saldo insuficiente para realizar o saque.\n",
            "O saldo atual da conta de Ana Paula é R$ 2050.75\n",
            "--------------------\n",
            "Valor de saque inválido. O valor deve ser positivo.\n"
          ]
        }
      ],
      "source": [
        "class ContaBancaria:\n",
        "    \"\"\"\n",
        "    Esta classe representa uma conta bancária simples.\n",
        "    \"\"\"\n",
        "\n",
        "    def __init__(self, titular, saldo_inicial=0):\n",
        "        \"\"\"\n",
        "        Inicializa a conta bancária.\n",
        "\n",
        "        Args:\n",
        "            titular (str): O nome do titular da conta.\n",
        "            saldo_inicial (float): O saldo inicial da conta (padrão é 0).\n",
        "        \"\"\"\n",
        "        self.titular = titular\n",
        "        self.saldo = float(saldo_inicial)\n",
        "        print(f\"Conta de {self.titular} criada com saldo de R$ {self.saldo:.2f}\")\n",
        "\n",
        "    def depositar(self, valor):\n",
        "        \"\"\"\n",
        "        Deposita um valor na conta.\n",
        "\n",
        "        Args:\n",
        "            valor (float): O valor a ser depositado.\n",
        "        \"\"\"\n",
        "        if valor > 0:\n",
        "            self.saldo += valor\n",
        "            print(f\"Depósito de R$ {valor:.2f} realizado com sucesso.\")\n",
        "            self.verificar_saldo()\n",
        "        else:\n",
        "            print(\"Valor de depósito inválido. O valor deve ser positivo.\")\n",
        "\n",
        "    def sacar(self, valor):\n",
        "        \"\"\"\n",
        "        Saca um valor da conta, se houver saldo suficiente.\n",
        "\n",
        "        Args:\n",
        "            valor (float): O valor a ser sacado.\n",
        "        \"\"\"\n",
        "        if valor > 0 and valor <= self.saldo:\n",
        "            self.saldo -= valor\n",
        "            print(f\"Saque de R$ {valor:.2f} realizado com sucesso.\")\n",
        "            self.verificar_saldo()\n",
        "        elif valor <= 0:\n",
        "            print(\"Valor de saque inválido. O valor deve ser positivo.\")\n",
        "        else:\n",
        "            print(\"Saldo insuficiente para realizar o saque.\")\n",
        "            self.verificar_saldo()\n",
        "\n",
        "    def verificar_saldo(self):\n",
        "        \"\"\"\n",
        "        Exibe o saldo atual da conta.\n",
        "        \"\"\"\n",
        "        print(f\"O saldo atual da conta de {self.titular} é R$ {self.saldo:.2f}\")\n",
        "\n",
        "# --- Exemplo de como usar a classe ---\n",
        "if __name__ == \"__main__\":\n",
        "    # Criando um objeto (instância) da classe ContaBancaria\n",
        "    conta_ana = ContaBancaria(\"Ana Paula\", 2500.00)\n",
        "    print(\"-\" * 20)\n",
        "\n",
        "    # Usando os métodos da classe\n",
        "    conta_ana.verificar_saldo()\n",
        "    print(\"-\" * 20)\n",
        "\n",
        "    conta_ana.depositar(350.75)\n",
        "    print(\"-\" * 20)\n",
        "\n",
        "    conta_ana.sacar(800.00)\n",
        "    print(\"-\" * 20)\n",
        "\n",
        "    # Tentativa de saque maior que o saldo\n",
        "    conta_ana.sacar(3000.00)\n",
        "    print(\"-\" * 20)\n",
        "\n",
        "    # Tentativa de saque com valor negativo\n",
        "    conta_ana.sacar(-100.00)"
      ]
    },
    {
      "cell_type": "code",
      "source": [],
      "metadata": {
        "id": "GI1lOMVH456W"
      },
      "execution_count": null,
      "outputs": []
    }
  ]
}