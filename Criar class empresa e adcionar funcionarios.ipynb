{
 "cells": [
  {
   "cell_type": "code",
   "execution_count": 5,
   "metadata": {
    "colab": {
     "base_uri": "https://localhost:8080/",
     "height": 220
    },
    "executionInfo": {
     "elapsed": 28,
     "status": "error",
     "timestamp": 1759349295357,
     "user": {
      "displayName": "Pietro Fleith",
      "userId": "05944635742924198992"
     },
     "user_tz": 180
    },
    "id": "6hS-n2j2W8-u",
    "outputId": "e5deb1a6-e94e-473c-db56-d5b0db72b575"
   },
   "outputs": [
    {
     "name": "stdout",
     "output_type": "stream",
     "text": [
      "Funcionário 'Jonathan M.' adicionado à Pietro Fleith ltda..\n",
      "Funcionário 'Fabio de Souza' adicionado à Pietro Fleith ltda..\n",
      "Funcionário 'yan de matos' adicionado à Pietro Fleith ltda..\n",
      "\n",
      "--- Funcionarios da Pietro Fleith ltda.----\n",
      "1.Jonathan M.\n",
      "2.Fabio de Souza\n",
      "3.yan de matos\n"
     ]
    }
   ],
   "source": [
    "class empresa:\n",
    "  def __init__(self, nome_empresa):\n",
    "    self.nome = nome_empresa\n",
    "    self.funcionarios = []\n",
    "\n",
    "  def adcionar_funcionario(self,funcionario):\n",
    "    self.funcionarios.append(funcionario)\n",
    "    print(f\"Funcionário '{funcionario}' adicionado à {self.nome}.\")\n",
    "  def listar_funcionarios(self):\n",
    "    print(f\"\\n--- Funcionarios da {self.nome}----\")\n",
    "    if self.funcionarios:\n",
    "      for i, funcionario in enumerate(self.funcionarios, 1):\n",
    "        print(f\"{i}.{funcionario}\")\n",
    "    else:\n",
    "      print(\"Ainda não há funcionarios cadastrados\")\n",
    "      print(\"-------------------------------------\")\n",
    "\n",
    "minha_empresa = empresa(\"Pietro Fleith ltda.\")\n",
    "minha_empresa.adcionar_funcionario(\"Jonathan M.\")\n",
    "minha_empresa.adcionar_funcionario(\"Fabio de Souza\")\n",
    "minha_empresa.adcionar_funcionario(\"yan de matos\")\n",
    "minha_empresa.listar_funcionarios()\n",
    "\n"
   ]
  },
  {
   "cell_type": "code",
   "execution_count": 6,
   "metadata": {
    "colab": {
     "base_uri": "https://localhost:8080/"
    },
    "executionInfo": {
     "elapsed": 7,
     "status": "ok",
     "timestamp": 1759349482319,
     "user": {
      "displayName": "Pietro Fleith",
      "userId": "05944635742924198992"
     },
     "user_tz": 180
    },
    "id": "JuYA153FZmje",
    "outputId": "efd197e2-9f8d-436b-ddb0-033e150f509d"
   },
   "outputs": [
    {
     "name": "stdout",
     "output_type": "stream",
     "text": [
      "✅ Funcionário 'Jonathan M.' adicionado à Pietro Fleith Ltda..\n",
      "✅ Funcionário 'Fabio de Souza' adicionado à Pietro Fleith Ltda..\n",
      "✅ Funcionário 'Yan de Matos' adicionado à Pietro Fleith Ltda..\n",
      "\n",
      "--- Funcionários da Pietro Fleith Ltda. ----\n",
      "1. Jonathan M.\n",
      "2. Fabio de Souza\n",
      "3. Yan de Matos\n",
      "-------------------------------------\n"
     ]
    }
   ],
   "source": [
    "\n",
    "class Empresa:\n",
    "    def __init__(self, nome_empresa):\n",
    "        self.nome = nome_empresa\n",
    "        self.funcionarios = []\n",
    "\n",
    "    # CORREÇÃO 1: O parâmetro se chama 'funcionario', mas dentro da função\n",
    "    # você estava usando a variável 'nome_funcionario' (que não existia).\n",
    "    # O método foi corrigido para usar 'funcionario' e o nome do método\n",
    "    # foi alterado de 'adcionar_funcionarios' para 'adicionar_funcionario'.\n",
    "    def adicionar_funcionario(self, funcionario):\n",
    "        self.funcionarios.append(funcionario)\n",
    "        print(f\"✅ Funcionário '{funcionario}' adicionado à {self.nome}.\")\n",
    "\n",
    "    def listar_funcionarios(self):\n",
    "        print(f\"\\n--- Funcionários da {self.nome} ----\")\n",
    "        if self.funcionarios:\n",
    "            for i, funcionario in enumerate(self.funcionarios, 1):\n",
    "                # CORREÇÃO 2: Adicionado um espaço após o ponto para melhor leitura.\n",
    "                print(f\"{i}. {funcionario}\")\n",
    "        else:\n",
    "            print(\"Ainda não há funcionários cadastrados\")\n",
    "\n",
    "        # CORREÇÃO 3: A linha de separação deve fechar a seção,\n",
    "        # independentemente de haver ou não funcionários.\n",
    "        print(\"-------------------------------------\")\n",
    "\n",
    "\n",
    "# --- Execução do Código Corrigido ---\n",
    "\n",
    "minha_empresa = Empresa(\"Pietro Fleith Ltda.\")\n",
    "\n",
    "# CORREÇÃO 4: O nome do método foi ajustado aqui também.\n",
    "minha_empresa.adicionar_funcionario(\"Jonathan M.\")\n",
    "minha_empresa.adicionar_funcionario(\"Fabio de Souza\")\n",
    "minha_empresa.adicionar_funcionario(\"Yan de Matos\")\n",
    "\n",
    "minha_empresa.listar_funcionarios()"
   ]
  }
 ],
 "metadata": {
  "colab": {
   "authorship_tag": "ABX9TyPsAatzDOQdjnW8pO1wmpqr",
   "provenance": []
  },
  "kernelspec": {
   "display_name": "Python 3 (ipykernel)",
   "language": "python",
   "name": "python3"
  }
 },
 "nbformat": 4,
 "nbformat_minor": 0
}
