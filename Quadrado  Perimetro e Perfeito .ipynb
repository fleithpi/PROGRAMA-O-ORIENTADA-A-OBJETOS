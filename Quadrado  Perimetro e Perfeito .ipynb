{
 "cells": [
  {
   "cell_type": "code",
   "execution_count": 2,
   "metadata": {
    "id": "l13TyNA-t2mN"
   },
   "outputs": [],
   "source": [
    "import math\n",
    "\n",
    "class quadrado:\n",
    "\n",
    "  def __init__(self, lado):\n",
    "    self.lado = lado\n",
    "  def area (self):\n",
    "      return self.lado **2\n",
    "\n",
    "  def perimetro(self):\n",
    "      return self.lado * 4\n",
    "\n",
    "  def alterar_lado(self, novo_lado):\n",
    "            self.lado = novo_lado\n",
    "\n",
    "  def verificar_igualdade(self, outro_quadrado):\n",
    "      return self.lado == outro_quadrado.lado\n",
    "\n",
    "  def quadrado_perfeito(self):\n",
    "      return math.isqrt(self.lado)**2 == self.lado\n",
    "\n",
    "  def calcular_diagonal(self):\n",
    "    return math.sqrt(2)*self.lado\n",
    "\n",
    "  def redimensionar (self, fator):\n",
    "     self.lado *= fator\n",
    "\n",
    "\n",
    "\n"
   ]
  },
  {
   "cell_type": "code",
   "execution_count": 3,
   "metadata": {
    "colab": {
     "base_uri": "https://localhost:8080/",
     "height": 314
    },
    "executionInfo": {
     "elapsed": 43,
     "status": "error",
     "timestamp": 1759274009881,
     "user": {
      "displayName": "Pietro Fleith",
      "userId": "05944635742924198992"
     },
     "user_tz": 180
    },
    "id": "z44TXjYHw1fW",
    "outputId": "a8f33e7a-76b6-4781-e288-f28916ea914b"
   },
   "outputs": [
    {
     "name": "stdout",
     "output_type": "stream",
     "text": [
      "lado quadrado:4\n",
      "perimetro: 8\n",
      "novo lado:None\n",
      "quadrados iguais?:True\n",
      "quadrado perfeito False\n",
      "diagonal é : 2.8284271247461903\n",
      "o lado do quadrado multiplicado pelo fator é :2\n"
     ]
    }
   ],
   "source": [
    "\n",
    "q1 = quadrado(2)\n",
    "q2 = quadrado(2)\n",
    "\n",
    "novolado = 2\n",
    "\n",
    "\n",
    "print(f\"lado quadrado:{q1.area()}\")\n",
    "print(f\"perimetro: {q1.perimetro()}\")\n",
    "print(f\"novo lado:{q1.alterar_lado(novolado)}\")\n",
    "print(f\"quadrados iguais?:{q1.verificar_igualdade(q2)}\")\n",
    "print(f\"quadrado perfeito {q1.quadrado_perfeito()}\")\n",
    "print(f\"diagonal é : {q1.calcular_diagonal()}\")\n",
    "print(f\"o lado do quadrado multiplicado pelo fator é :{(q1.lado)}\")\n",
    "\n"
   ]
  },
  {
   "cell_type": "code",
   "execution_count": null,
   "metadata": {
    "id": "cVgMhWKlyAne"
   },
   "outputs": [],
   "source": []
  }
 ],
 "metadata": {
  "colab": {
   "authorship_tag": "ABX9TyO7KSIRVMMGhn363NjiT0r+",
   "provenance": [
    {
     "file_id": "10HOi5saVxssYv-1UnQ082L1TDUu-ejPT",
     "timestamp": 1759275952933
    },
    {
     "file_id": "16tDGxNA42oP0Bx74CpWuGJU4nAvbp7hC",
     "timestamp": 1759274015258
    }
   ]
  },
  "kernelspec": {
   "display_name": "Python 3 (ipykernel)",
   "language": "python",
   "name": "python3"
  },
  "language_info": {
   "codemirror_mode": {
    "name": "ipython",
    "version": 3
   },
   "file_extension": ".py",
   "mimetype": "text/x-python",
   "name": "python",
   "nbconvert_exporter": "python",
   "pygments_lexer": "ipython3",
   "version": "3.12.1"
  }
 },
 "nbformat": 4,
 "nbformat_minor": 0
}
