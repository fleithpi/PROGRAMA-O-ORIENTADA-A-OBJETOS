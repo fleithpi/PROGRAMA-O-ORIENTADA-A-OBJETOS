{
  "nbformat": 4,
  "nbformat_minor": 0,
  "metadata": {
    "colab": {
      "provenance": [],
      "authorship_tag": "ABX9TyO2LPdfCwHKiQJxQMR03agj",
      "include_colab_link": true
    },
    "kernelspec": {
      "name": "python3",
      "display_name": "Python 3"
    },
    "language_info": {
      "name": "python"
    }
  },
  "cells": [
    {
      "cell_type": "markdown",
      "metadata": {
        "id": "view-in-github",
        "colab_type": "text"
      },
      "source": [
        "<a href=\"https://colab.research.google.com/github/fleithpi/PROGRAMA-O-ORIENTADA-A-OBJETOS/blob/main/criando_senha_e_usuario.ipynb\" target=\"_parent\"><img src=\"https://colab.research.google.com/assets/colab-badge.svg\" alt=\"Open In Colab\"/></a>"
      ]
    },
    {
      "cell_type": "code",
      "execution_count": null,
      "metadata": {
        "id": "nQnTBqBuTsdP"
      },
      "outputs": [],
      "source": [
        "import hashlib\n",
        "import os\n",
        "\n",
        "class Usuario:\n",
        "    \"\"\"\n",
        "    Representa um usuário e gerencia o hash seguro de sua senha.\n",
        "    Usa SHA-256 internamente através da função pbkdf2_hmac com salt.\n",
        "    \"\"\"\n",
        "    def __init__(self, nome_usuario: str):\n",
        "        # Campos que seriam armazenados em um banco de dados\n",
        "        self.usuario = nome_usuario\n",
        "        self._hash_senha = None  # O hash final da senha\n",
        "        self._salt_hex = None    # O salt usado (necessário para verificação)\n",
        "\n",
        "    def definir_senha(self, senha_texto_puro: str):\n",
        "        \"\"\"\n",
        "        Gera um salt aleatório e hashea a senha usando pbkdf2_hmac (SHA-256).\n",
        "        \"\"\"\n",
        "        # 1. Gerar um salt (valor aleatório)\n",
        "        salt_bytes = os.urandom(16)\n",
        "\n",
        "        # 2. Hashing seguro (pbkdf2_hmac)\n",
        "        # Este é o padrão mais seguro para senhas, pois é lento e usa salt\n",
        "        hash_bytes = hashlib.pbkdf2_hmac(\n",
        "            'sha256',                    # Algoritmo de hash\n",
        "            senha_texto_puro.encode('utf-8'), # A senha em bytes\n",
        "            salt_bytes,                  # O salt em bytes\n",
        "            100000                       # Número de iterações (o mínimo seguro é 100.000)\n",
        "        )\n",
        "\n",
        "        # 3. Armazenar o hash e o salt em formato hexadecimal (string)\n",
        "        self._hash_senha = hash_bytes.hex()\n",
        "        self._salt_hex = salt_bytes.hex()\n",
        "\n",
        "        print(f\"Senha definida com sucesso para o usuário {self.usuario}.\")\n",
        "\n",
        "    def autenticar(self, senha_tentativa: str) -> bool:\n",
        "        \"\"\"\n",
        "        Verifica se a senha fornecida corresponde ao hash armazenado.\n",
        "        \"\"\"\n",
        "        if not self._hash_senha or not self._salt_hex:\n",
        "            return False # Senha não definida\n",
        "\n",
        "        # 1. Converter o salt armazenado de volta para bytes\n",
        "        salt_armazenado = bytes.fromhex(self._salt_hex)\n",
        "\n",
        "        # 2. Gerar o hash da senha de tentativa usando o *mesmo* salt\n",
        "        hash_tentativa_bytes = hashlib.pbkdf2_hmac(\n",
        "            'sha256',\n",
        "            senha_tentativa.encode('utf-8'),\n",
        "            salt_armazenado,\n",
        "            100000\n",
        "        )\n",
        "\n",
        "        # 3. Converter para string hexadecimal\n",
        "        hash_tentativa_hex = hash_tentativa_bytes.hex()\n",
        "\n",
        "        # 4. Comparação segura para evitar ataques de temporização\n",
        "        return hashlib.compare_digest(hash_tentativa_hex, self._hash_senha)\n",
        "\n",
        "# --- Exemplo de Uso ---\n",
        "usuario1 = Usuario(\"ana_souza\")\n",
        "senha_correta = \"MinhaSenhaSecreta!\"\n",
        "\n",
        "# 1. Cadastro da Senha\n",
        "usuario1.definir_senha(senha_correta)\n",
        "\n",
        "# 2. Tentativa de Login (Autenticação)\n",
        "print(\"\\n--- Testes de Autenticação ---\")\n",
        "print(f\"Login (Senha Correta): {usuario1.autenticar(senha_correta)}\")\n",
        "print(f\"Login (Senha Errada):  {usuario1.autenticar('senha_errada')}\")"
      ]
    }
  ]
}