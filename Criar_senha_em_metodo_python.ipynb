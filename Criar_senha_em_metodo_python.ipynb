{
  "nbformat": 4,
  "nbformat_minor": 0,
  "metadata": {
    "colab": {
      "provenance": [],
      "authorship_tag": "ABX9TyPLq5jXQNcvBA/1Eng7aCAo",
      "include_colab_link": true
    },
    "kernelspec": {
      "name": "python3",
      "display_name": "Python 3"
    },
    "language_info": {
      "name": "python"
    }
  },
  "cells": [
    {
      "cell_type": "markdown",
      "metadata": {
        "id": "view-in-github",
        "colab_type": "text"
      },
      "source": [
        "<a href=\"https://colab.research.google.com/github/fleithpi/PROGRAMA-O-ORIENTADA-A-OBJETOS/blob/main/Criar_senha_em_metodo_python.ipynb\" target=\"_parent\"><img src=\"https://colab.research.google.com/assets/colab-badge.svg\" alt=\"Open In Colab\"/></a>"
      ]
    },
    {
      "cell_type": "code",
      "execution_count": null,
      "metadata": {
        "id": "0XjUZ0Sv0Nme"
      },
      "outputs": [],
      "source": [
        "class Retangulo:\n",
        "    def __init__(self, largura, altura):\n",
        "        self.largura = largura\n",
        "        self.altura= altura\n",
        "\n",
        "    def calcular_area(self):\n",
        "        return self.largura * self.altura\n"
      ]
    },
    {
      "cell_type": "code",
      "source": [
        "retangulo = Retangulo(5, 3)\n",
        "area = retangulo.calcular_area ()\n",
        "print(area)"
      ],
      "metadata": {
        "colab": {
          "base_uri": "https://localhost:8080/"
        },
        "id": "l0iMPO3v1NyJ",
        "outputId": "f3450b11-f3a4-4247-83a5-912e2a86c7ba"
      },
      "execution_count": null,
      "outputs": [
        {
          "output_type": "stream",
          "name": "stdout",
          "text": [
            "15\n"
          ]
        }
      ]
    },
    {
      "cell_type": "code",
      "source": [
        "class Retangulo:\n",
        "    def __init__(self, largura, altura):\n",
        "        self.largura = largura\n",
        "        self.altura= altura\n",
        "\n",
        "    @property\n",
        "    def area(self):\n",
        "        return self.largura * self.altura"
      ],
      "metadata": {
        "id": "P9PAyZWd1ohq"
      },
      "execution_count": null,
      "outputs": []
    },
    {
      "cell_type": "code",
      "source": [
        "retangulo = Retangulo(5, 3)\n",
        "print(retangulo.area)\n"
      ],
      "metadata": {
        "colab": {
          "base_uri": "https://localhost:8080/"
        },
        "id": "Rn5xI1pA1xKy",
        "outputId": "c67e582c-7d63-443e-dc26-566577e689da"
      },
      "execution_count": null,
      "outputs": [
        {
          "output_type": "stream",
          "name": "stdout",
          "text": [
            "15\n"
          ]
        }
      ]
    },
    {
      "cell_type": "code",
      "source": [
        "class Termometo:\n",
        "    def __init__(self,celsius):\n",
        "      self._temp_celsius = celsius\n",
        "\n",
        "      print(f\"Novo termometo criado com {celsius}ºC\")\n",
        "\n",
        "    @property\n",
        "    def celsius(self):\n",
        "      return self._temp_celsius\n",
        "\n",
        "\n",
        "    @celsius.setter\n",
        "    def celsius(self, novo_celsius)\n",
        "        if novo_celsius < -273.15:\n",
        "            raise ValueError(\"Temperatura em Celsius não pode ser abaixo do Zero Absoluto (-273.15°C)\")\n",
        "        print(f\"Temperatura atualizada para {novo_celsius}°C.\")\n",
        "        self._temp_celsius = novo_celsius\n",
        "\n",
        "\n",
        "\n",
        "\n",
        "\n",
        "\n",
        "\n"
      ],
      "metadata": {
        "id": "u0PGwDuUAGqK"
      },
      "execution_count": null,
      "outputs": []
    },
    {
      "cell_type": "code",
      "source": [
        "class Termometro:\n",
        "    \"\"\"\n",
        "    Termômetro que usa o método 'property' para gerenciar\n",
        "    a temperatura em Celsius e Fahrenheit.\n",
        "    \"\"\"\n",
        "    def __init__(self, celsius):\n",
        "        # O self._temp_celsius é o atributo \"real\" que armazena o valor.\n",
        "        self._temp_celsius = celsius\n",
        "        print(f\"Novo termômetro criado com {celsius}°C\")\n",
        "\n",
        "    # --- Property para Celsius (@property) ---\n",
        "\n",
        "    @property\n",
        "    def celsius(self):\n",
        "        \"\"\"Método Getter para Celsius.\"\"\"\n",
        "        return self._temp_celsius\n",
        "\n",
        "    @celsius.setter\n",
        "    def celsius(self, novo_celsius):\n",
        "        \"\"\"Método Setter para Celsius: permite definir a temperatura em Celsius.\"\"\"\n",
        "        if novo_celsius < -273.15: # Zero Absoluto\n",
        "            raise ValueError(\"Temperatura em Celsius não pode ser abaixo do Zero Absoluto (-273.15°C)\")\n",
        "        print(f\"Temperatura atualizada para {novo_celsius}°C.\")\n",
        "        self._temp_celsius = novo_celsius\n",
        "\n",
        "    # --- Property para Fahrenheit ---\n",
        "\n",
        "    @property\n",
        "    def fahrenheit(self):\n",
        "        \"\"\"\n",
        "        Método Getter para Fahrenheit: calcula Fahrenheit em tempo real\n",
        "        com base no valor de Celsius.\n",
        "        \"\"\"\n",
        "        return (self._temp_celsius * 9/5) + 32\n",
        "\n",
        "    @fahrenheit.setter\n",
        "    def fahrenheit(self, novo_fahrenheit):\n",
        "        \"\"\"\n",
        "        Método Setter para Fahrenheit: converte o valor para Celsius\n",
        "        e o armazena no atributo 'real' (_temp_celsius).\n",
        "        \"\"\"\n",
        "        # Fórmula de conversão: C = (F - 32) * 5/9\n",
        "        novo_celsius = (novo_fahrenheit - 32) * 5/9\n",
        "\n",
        "        # Reutiliza o setter de Celsius para fazer a validação\n",
        "        self.celsius = novo_celsius\n",
        "\n",
        "\n",
        "# --- Demonstração do Uso ---\n",
        "\n",
        "# 1. Criação do objeto\n",
        "temp_casa = Termometro(celsius=25.0)\n",
        "\n",
        "# 2. Acessando como um atributo (usando o GETTER de Celsius e Fahrenheit)\n",
        "print(\"-\" * 30)\n",
        "print(f\"Temperatura atual em Celsius: {temp_casa.celsius}°C\")\n",
        "print(f\"Temperatura atual em Fahrenheit: {temp_casa.fahrenheit:.2f}°F\")\n",
        "\n",
        "\n",
        "# 3. Definindo um valor em Celsius (usando o SETTER de Celsius)\n",
        "print(\"-\" * 30)\n",
        "temp_casa.celsius = 30.5\n",
        "print(f\"Após definir Celsius, Fahrenheit é: {temp_casa.fahrenheit:.2f}°F\")\n",
        "\n",
        "\n",
        "# 4. Definindo um valor em Fahrenheit (usando o SETTER de Fahrenheit)\n",
        "print(\"-\" * 30)\n",
        "temp_casa.fahrenheit = 86.0 # 86°F é igual a 30°C\n",
        "print(f\"Após definir Fahrenheit, Celsius é: {temp_casa.celsius}°C\")\n",
        "\n",
        "\n",
        "# 5. Demonstração de Validação (Setter com Zero Absoluto)\n",
        "print(\"-\" * 30)\n",
        "try:\n",
        "    temp_casa.celsius = -300\n",
        "except ValueError as e:\n",
        "    print(f\"Erro de Validação Capturado: {e}\")"
      ],
      "metadata": {
        "colab": {
          "base_uri": "https://localhost:8080/"
        },
        "id": "i2KfHye99Z8m",
        "outputId": "99417808-7b2b-4dc2-d334-65615ac90f25"
      },
      "execution_count": null,
      "outputs": [
        {
          "output_type": "stream",
          "name": "stdout",
          "text": [
            "Novo termômetro criado com 25.0°C\n",
            "------------------------------\n",
            "Temperatura atual em Celsius: 25.0°C\n",
            "Temperatura atual em Fahrenheit: 77.00°F\n",
            "------------------------------\n",
            "Temperatura atualizada para 30.5°C.\n",
            "Após definir Celsius, Fahrenheit é: 86.90°F\n",
            "------------------------------\n",
            "Temperatura atualizada para 30.0°C.\n",
            "Após definir Fahrenheit, Celsius é: 30.0°C\n",
            "------------------------------\n",
            "Erro de Validação Capturado: Temperatura em Celsius não pode ser abaixo do Zero Absoluto (-273.15°C)\n"
          ]
        }
      ]
    },
    {
      "cell_type": "code",
      "source": [
        "class Termometro:\n",
        "    \"\"\"\n",
        "    Termômetro que usa os métodos getter e setter tradicionais\n",
        "    para gerenciar a temperatura em Celsius e Fahrenheit.\n",
        "    \"\"\"\n",
        "    def __init__(self, celsius):\n",
        "        self._celsius = celsius\n",
        "\n",
        "    # --- Getter e Setter para Celsius ---\n",
        "\n",
        "    def get_celsius(self):\n",
        "        \"\"\"Retorna a temperatura em Celsius.\"\"\"\n",
        "        return self._celsius\n",
        "\n",
        "    def set_celsius(self, novo_celsius):\n",
        "        \"\"\"Define a temperatura em Celsius com validação.\"\"\"\n",
        "        if novo_celsius < -273.15:\n",
        "            raise ValueError(\"Temperatura não pode ser abaixo do Zero Absoluto (-273.15°C)\")\n",
        "        self._celsius = novo_celsius\n",
        "\n",
        "    # --- Getter e Setter para Fahrenheit ---\n",
        "\n",
        "    def get_fahrenheit(self):\n",
        "        \"\"\"Calcula e retorna a temperatura em Fahrenheit.\"\"\"\n",
        "        return (self._celsius * 9/5) + 32\n",
        "\n",
        "    def set_fahrenheit(self, novo_fahrenheit):\n",
        "        \"\"\"Define a temperatura em Fahrenheit, convertendo para Celsius.\"\"\"\n",
        "        novo_celsius = (novo_fahrenheit - 32) * 5/9\n",
        "        # Reutiliza o setter de Celsius para armazenar e validar\n",
        "        self.set_celsius(novo_celsius)\n",
        "\n",
        "\n",
        "# --- Demonstração do Uso ---\n",
        "\n",
        "# 1. Criação do objeto\n",
        "temp_exterior = Termometro(celsius=20.0)\n",
        "\n",
        "# 2. Acessando (usando os Getters)\n",
        "print(f\"Temperatura Inicial: {temp_exterior.get_celsius()}°C\")\n",
        "print(f\"Em Fahrenheit: {temp_exterior.get_fahrenheit():.2f}°F\")\n",
        "\n",
        "# 3. Alterando (usando os Setters)\n",
        "temp_exterior.set_celsius(28.5)\n",
        "print(f\"\\nNova leitura Celsius: {temp_exterior.get_celsius()}°C\")\n",
        "\n",
        "temp_exterior.set_fahrenheit(77.0) # 77°F = 25°C\n",
        "print(f\"\\nApós set_fahrenheit, Celsius é: {temp_exterior.get_celsius()}°C\")\n",
        "\n",
        "# 4. Demonstração de Validação\n",
        "try:\n",
        "    temp_exterior.set_celsius(-300)\n",
        "except ValueError as e:\n",
        "    print(f\"\\nErro: {e}\")"
      ],
      "metadata": {
        "colab": {
          "base_uri": "https://localhost:8080/"
        },
        "id": "xK-1zKIsEgqO",
        "outputId": "17d151ff-18eb-4f0f-adb8-4a2f5e32536e"
      },
      "execution_count": null,
      "outputs": [
        {
          "output_type": "stream",
          "name": "stdout",
          "text": [
            "Temperatura Inicial: 20.0°C\n",
            "Em Fahrenheit: 68.00°F\n",
            "\n",
            "Nova leitura Celsius: 28.5°C\n",
            "\n",
            "Após set_fahrenheit, Celsius é: 25.0°C\n",
            "\n",
            "Erro: Temperatura não pode ser abaixo do Zero Absoluto (-273.15°C)\n"
          ]
        }
      ]
    },
    {
      "cell_type": "code",
      "source": [
        "import hashlib\n",
        "import os\n",
        "\n",
        "class usuario:\n",
        "\n",
        "  def __init__(self, nome_usuario):\n",
        "    self.usuario = nome_usuario\n",
        "    self.hash_senha = None\n",
        "    self._salt = None\n",
        "\n",
        "  def definir_senha(self, senha:str):\n",
        "\n",
        "    salt_bytes = os.urandom(16)\n",
        "    #PADRAO DE SENHA\n",
        "    hash_bytes = hashlib.pbkdfe_hmac(\n",
        "        'sha256'\n",
        "        senha_texto_puro.encode('utf-8')\n",
        "        salt_bytes,\n",
        "        100000\n",
        "\n",
        "    )\n",
        "    self._hash_senha = hash_bytes.hex()\n",
        "    self._salt_hex = salt_bytes.hex()\n",
        "\n",
        "    print(f\"SENHA DEFINIDA COM SUCESSO PARA O USUARIO{self.usuario}\")\n",
        "\n",
        "  def autenticar(self, senha_tentativa: str) #booleana para verificar se a senha corresponde ao hash\n",
        "      if not self._hash_senha or not self._salt_hex:\n",
        "          return False\n",
        "      salt_armazenado = bytes.fromhex(self._salt_hex)\n",
        "      hash_tentativa_bytes = hashlib.pbkdf2_hmac(\n",
        "          'sha256',\n",
        "          senha_tentativa.encode('utf-8'),\n",
        "          salt_armazenado,\n",
        "          100000\n",
        "      )\n",
        "      hash_tentativa_hex = hash_tentativa_bytes.hex()\n",
        "\n",
        "      return hashlib.compare_digest(hash_tentativa_hex, self._hash_senha)\n",
        "\n",
        "      usuario1 = Usuario(\"Pietro Fleith\")\n",
        "      senha_correta = \"123456\"\n",
        "\n",
        "      usuario1.definir_senha(senha_correta)\n",
        "\n",
        "\n",
        "\n",
        "print(\"\\n--- Testes de Autenticação ---\")\n",
        "print(f\"Login (Senha Correta): {usuario1.autenticar(senha_correta)}\")\n",
        "print(f\"Login (Senha Errada):  {usuario1.autenticar('senha_errada')}\")\n",
        "\n",
        "\n",
        "\n",
        "\n"
      ],
      "metadata": {
        "colab": {
          "base_uri": "https://localhost:8080/",
          "height": 106
        },
        "id": "nSftltRWF9uS",
        "outputId": "dc746885-efdc-4b2b-da54-8e0b4728c967"
      },
      "execution_count": null,
      "outputs": [
        {
          "output_type": "error",
          "ename": "SyntaxError",
          "evalue": "invalid syntax. Perhaps you forgot a comma? (ipython-input-2004089084.py, line 16)",
          "traceback": [
            "\u001b[0;36m  File \u001b[0;32m\"/tmp/ipython-input-2004089084.py\"\u001b[0;36m, line \u001b[0;32m16\u001b[0m\n\u001b[0;31m    'sha256'\u001b[0m\n\u001b[0m    ^\u001b[0m\n\u001b[0;31mSyntaxError\u001b[0m\u001b[0;31m:\u001b[0m invalid syntax. Perhaps you forgot a comma?\n"
          ]
        }
      ]
    },
    {
      "cell_type": "code",
      "source": [
        "import hashlib\n",
        "import os\n",
        "\n",
        "class Usuario:\n",
        "    \"\"\"\n",
        "    Representa um usuário e gerencia o hash seguro de sua senha.\n",
        "    Usa SHA-256 internamente através da função pbkdf2_hmac com salt.\n",
        "    \"\"\"\n",
        "    def __init__(self, nome_usuario: str):\n",
        "        # Campos que seriam armazenados em um banco de dados\n",
        "        self.usuario = nome_usuario\n",
        "        self._hash_senha = None  # O hash final da senha\n",
        "        self._salt_hex = None    # O salt usado (necessário para verificação)\n",
        "\n",
        "    def definir_senha(self, senha_texto_puro: str):\n",
        "        \"\"\"\n",
        "        Gera um salt aleatório e hashea a senha usando pbkdf2_hmac (SHA-256).\n",
        "        \"\"\"\n",
        "        # 1. Gerar um salt (valor aleatório)\n",
        "        salt_bytes = os.urandom(16)\n",
        "\n",
        "        # 2. Hashing seguro (pbkdf2_hmac)\n",
        "        # Este é o padrão mais seguro para senhas, pois é lento e usa salt\n",
        "        hash_bytes = hashlib.pbkdf2_hmac(\n",
        "            'sha256',                    # Algoritmo de hash\n",
        "            senha_texto_puro.encode('utf-8'), # A senha em bytes\n",
        "            salt_bytes,                  # O salt em bytes\n",
        "            100000                       # Número de iterações (o mínimo seguro é 100.000)\n",
        "        )\n",
        "\n",
        "        # 3. Armazenar o hash e o salt em formato hexadecimal (string)\n",
        "        self._hash_senha = hash_bytes.hex()\n",
        "        self._salt_hex = salt_bytes.hex()\n",
        "\n",
        "        print(f\"Senha definida com sucesso para o usuário {self.usuario}.\")\n",
        "\n",
        "    def autenticar(self, senha_tentativa: str) -> bool:\n",
        "        \"\"\"\n",
        "        Verifica se a senha fornecida corresponde ao hash armazenado.\n",
        "        \"\"\"\n",
        "        if not self._hash_senha or not self._salt_hex:\n",
        "            return False # Senha não definida\n",
        "\n",
        "        # 1. Converter o salt armazenado de volta para bytes\n",
        "        salt_armazenado = bytes.fromhex(self._salt_hex)\n",
        "\n",
        "        # 2. Gerar o hash da senha de tentativa usando o *mesmo* salt\n",
        "        hash_tentativa_bytes = hashlib.pbkdf2_hmac(\n",
        "            'sha256',\n",
        "            senha_tentativa.encode('utf-8'),\n",
        "            salt_armazenado,\n",
        "            100000\n",
        "        )\n",
        "\n",
        "        # 3. Converter para string hexadecimal\n",
        "        hash_tentativa_hex = hash_tentativa_bytes.hex()\n",
        "\n",
        "        # 4. Comparação segura para evitar ataques de temporização\n",
        "        return hashlib.compare_digest(hash_tentativa_hex, self._hash_senha)\n",
        "\n",
        "# --- Exemplo de Uso ---\n",
        "usuario1 = Usuario(\"ana_souza\")\n",
        "senha_correta = \"MinhaSenhaSecreta!\"\n",
        "\n",
        "# 1. Cadastro da Senha\n",
        "usuario1.definir_senha(senha_correta)\n",
        "\n",
        "# 2. Tentativa de Login (Autenticação)\n",
        "print(\"\\n--- Testes de Autenticação ---\")\n",
        "print(f\"Login (Senha Correta): {usuario1.autenticar(senha_correta)}\")\n",
        "print(f\"Login (Senha Errada):  {usuario1.autenticar('senha_errada')}\")"
      ],
      "metadata": {
        "colab": {
          "base_uri": "https://localhost:8080/",
          "height": 419
        },
        "id": "o9y8CQjsR7Yo",
        "outputId": "067da129-e687-4dd9-d5fb-88313db8e3f5"
      },
      "execution_count": null,
      "outputs": [
        {
          "output_type": "stream",
          "name": "stdout",
          "text": [
            "Senha definida com sucesso para o usuário ana_souza.\n",
            "\n",
            "--- Testes de Autenticação ---\n"
          ]
        },
        {
          "output_type": "error",
          "ename": "AttributeError",
          "evalue": "module 'hashlib' has no attribute 'compare_digest'",
          "traceback": [
            "\u001b[0;31m---------------------------------------------------------------------------\u001b[0m",
            "\u001b[0;31mAttributeError\u001b[0m                            Traceback (most recent call last)",
            "\u001b[0;32m/tmp/ipython-input-3814065269.py\u001b[0m in \u001b[0;36m<cell line: 0>\u001b[0;34m()\u001b[0m\n\u001b[1;32m     68\u001b[0m \u001b[0;31m# 2. Tentativa de Login (Autenticação)\u001b[0m\u001b[0;34m\u001b[0m\u001b[0;34m\u001b[0m\u001b[0m\n\u001b[1;32m     69\u001b[0m \u001b[0mprint\u001b[0m\u001b[0;34m(\u001b[0m\u001b[0;34m\"\\n--- Testes de Autenticação ---\"\u001b[0m\u001b[0;34m)\u001b[0m\u001b[0;34m\u001b[0m\u001b[0;34m\u001b[0m\u001b[0m\n\u001b[0;32m---> 70\u001b[0;31m \u001b[0mprint\u001b[0m\u001b[0;34m(\u001b[0m\u001b[0;34mf\"Login (Senha Correta): {usuario1.autenticar(senha_correta)}\"\u001b[0m\u001b[0;34m)\u001b[0m\u001b[0;34m\u001b[0m\u001b[0;34m\u001b[0m\u001b[0m\n\u001b[0m\u001b[1;32m     71\u001b[0m \u001b[0mprint\u001b[0m\u001b[0;34m(\u001b[0m\u001b[0;34mf\"Login (Senha Errada):  {usuario1.autenticar('senha_errada')}\"\u001b[0m\u001b[0;34m)\u001b[0m\u001b[0;34m\u001b[0m\u001b[0;34m\u001b[0m\u001b[0m\n",
            "\u001b[0;32m/tmp/ipython-input-3814065269.py\u001b[0m in \u001b[0;36mautenticar\u001b[0;34m(self, senha_tentativa)\u001b[0m\n\u001b[1;32m     57\u001b[0m \u001b[0;34m\u001b[0m\u001b[0m\n\u001b[1;32m     58\u001b[0m         \u001b[0;31m# 4. Comparação segura para evitar ataques de temporização\u001b[0m\u001b[0;34m\u001b[0m\u001b[0;34m\u001b[0m\u001b[0m\n\u001b[0;32m---> 59\u001b[0;31m         \u001b[0;32mreturn\u001b[0m \u001b[0mhashlib\u001b[0m\u001b[0;34m.\u001b[0m\u001b[0mcompare_digest\u001b[0m\u001b[0;34m(\u001b[0m\u001b[0mhash_tentativa_hex\u001b[0m\u001b[0;34m,\u001b[0m \u001b[0mself\u001b[0m\u001b[0;34m.\u001b[0m\u001b[0m_hash_senha\u001b[0m\u001b[0;34m)\u001b[0m\u001b[0;34m\u001b[0m\u001b[0;34m\u001b[0m\u001b[0m\n\u001b[0m\u001b[1;32m     60\u001b[0m \u001b[0;34m\u001b[0m\u001b[0m\n\u001b[1;32m     61\u001b[0m \u001b[0;31m# --- Exemplo de Uso ---\u001b[0m\u001b[0;34m\u001b[0m\u001b[0;34m\u001b[0m\u001b[0m\n",
            "\u001b[0;31mAttributeError\u001b[0m: module 'hashlib' has no attribute 'compare_digest'"
          ]
        }
      ]
    }
  ]
}