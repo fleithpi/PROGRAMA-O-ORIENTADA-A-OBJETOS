{
 "cells": [
  {
   "cell_type": "code",
   "execution_count": 1,
   "metadata": {
    "colab": {
     "base_uri": "https://localhost:8080/"
    },
    "executionInfo": {
     "elapsed": 8761,
     "status": "ok",
     "timestamp": 1756402751002,
     "user": {
      "displayName": "Pietro Fleith",
      "userId": "05944635742924198992"
     },
     "user_tz": 180
    },
    "id": "0rauFrCVk69u",
    "outputId": "95cae0f9-b7ea-4c22-f95c-18cc7ec9a273"
   },
   "outputs": [],
   "source": [
    "\n",
    "\n",
    "lista_string = input(\"insira uma lista de frutas separadas por virgula\")\n",
    "print(lista_string)\n",
    "listanova = lista_string.split(\",\")\n",
    "print(listanova)\n",
    "lista2 = [frutas.strip() for frutas in listanova]\n",
    "contagem = listanova.count(lista2)\n",
    "print (f\"{contagem}\")\n",
    "\n",
    "\n",
    "\n"
   ]
  },
  {
   "cell_type": "code",
   "execution_count": null,
   "metadata": {
    "id": "q5xuMD-QtXhj"
   },
   "outputs": [],
   "source": []
  },
  {
   "cell_type": "code",
   "execution_count": null,
   "metadata": {},
   "outputs": [],
   "source": []
  },
  {
   "cell_type": "code",
   "execution_count": null,
   "metadata": {
    "colab": {
     "base_uri": "https://localhost:8080/",
     "height": 211
    },
    "executionInfo": {
     "elapsed": 6896,
     "status": "error",
     "timestamp": 1756402816798,
     "user": {
      "displayName": "Pietro Fleith",
      "userId": "05944635742924198992"
     },
     "user_tz": 180
    },
    "id": "BqCTa1LHrKfG",
    "outputId": "4a613c7b-7039-43f5-de21-04e2f62b1b42"
   },
   "outputs": [],
   "source": [
    "itens = input(\"insira\")\n",
    "\n",
    "lista_palavras = [x.strip() for x in itens.split() if x.strip()]\n",
    "palavra = input(\"digite a palavra que deseja encontrar\")\n",
    "quantidade = lista_palavras.count(palavra)\n",
    "\n",
    "print(f\"Lista de palavras: {lista_palavras}\")\n",
    "print(f\"A palavra '{palavra}' aparece {quantidade} vezes na lista.\")\n"
   ]
  },
  {
   "cell_type": "code",
   "execution_count": null,
   "metadata": {
    "colab": {
     "base_uri": "https://localhost:8080/"
    },
    "executionInfo": {
     "elapsed": 8,
     "status": "ok",
     "timestamp": 1755730636744,
     "user": {
      "displayName": "Pietro Fleith",
      "userId": "05944635742924198992"
     },
     "user_tz": 180
    },
    "id": "-jaSaBEjrtFd",
    "outputId": "bb364037-18bb-49e4-ecae-2bd719f892be"
   },
   "outputs": [],
   "source": [
    "lista_string = input(\"Digite aqui a lista de itens (separe-os por vírgula ou espaço): \")\n",
    "item_a_procurar = input(\"Digite aqui o item que você deseja verificar (opcional): \")\n",
    "lista = lista_string.split()\n",
    "\n",
    "novalista = list(set(lista))\n",
    "\n",
    "print(\"\\n--- Resultado---\")\n",
    "print(f\"Lista Original (com duplicatas): {lista}\")\n",
    "print(f\"Nova Lista (somente itens unicos):{novalista}\")"
   ]
  },
  {
   "cell_type": "markdown",
   "metadata": {
    "id": "TgtTU6ePrxve"
   },
   "source": [
    "CONJUNTOS, LISTAS QUE NAO PERMITEM DADOS DUPLICADOS"
   ]
  },
  {
   "cell_type": "code",
   "execution_count": null,
   "metadata": {
    "colab": {
     "base_uri": "https://localhost:8080/",
     "height": 356
    },
    "executionInfo": {
     "elapsed": 2336255,
     "status": "error",
     "timestamp": 1755733172589,
     "user": {
      "displayName": "Pietro Fleith",
      "userId": "05944635742924198992"
     },
     "user_tz": 180
    },
    "id": "2H_HUKQwmPXU",
    "outputId": "21e62b0d-960e-43fa-f06d-40dd40857876"
   },
   "outputs": [],
   "source": [
    "lista_string = input(\"insira uma lista de frutas separadas por virgula\")\n",
    "print(lista_string)\n",
    "listanova = lista_string.split(\",\")\n",
    "print(listanova)\n",
    "lista2 = [frutas.strip() for frutas in listanova]\n",
    "contagem = listanova.count(lista2)\n",
    "\n",
    "print (f\"{contagem}\")\n"
   ]
  },
  {
   "cell_type": "markdown",
   "metadata": {
    "id": "BkT_KQdnlGYf"
   },
   "source": []
  },
  {
   "cell_type": "code",
   "execution_count": null,
   "metadata": {
    "id": "Zj92AnXE2pyF"
   },
   "outputs": [],
   "source": []
  },
  {
   "cell_type": "markdown",
   "metadata": {
    "id": "PvCB6gqu2l-L"
   },
   "source": [
    "VARIAÇÕES DO FATIAMENTO"
   ]
  },
  {
   "cell_type": "code",
   "execution_count": null,
   "metadata": {
    "colab": {
     "base_uri": "https://localhost:8080/"
    },
    "executionInfo": {
     "elapsed": 31,
     "status": "ok",
     "timestamp": 1755733177480,
     "user": {
      "displayName": "Pietro Fleith",
      "userId": "05944635742924198992"
     },
     "user_tz": 180
    },
    "id": "vknT1EYBuJLy",
    "outputId": "c44dc17c-4cfa-489f-f8fc-fe9ba5b8d747"
   },
   "outputs": [],
   "source": [
    "str = \"programar\"\n",
    "slicing = str[0:4]\n",
    "print(slicing)"
   ]
  },
  {
   "cell_type": "markdown",
   "metadata": {
    "id": "e8JbgnPhuL9p"
   },
   "source": []
  },
  {
   "cell_type": "code",
   "execution_count": null,
   "metadata": {
    "colab": {
     "base_uri": "https://localhost:8080/"
    },
    "executionInfo": {
     "elapsed": 29,
     "status": "ok",
     "timestamp": 1755733497218,
     "user": {
      "displayName": "Pietro Fleith",
      "userId": "05944635742924198992"
     },
     "user_tz": 180
    },
    "id": "YH3OAb6B2qTk",
    "outputId": "b3686693-bbcf-4641-d708-4e5453c3347c"
   },
   "outputs": [],
   "source": [
    "\n",
    "\n",
    "str = \"escreva a palavra ao contrario\"\n",
    "slicing = str[::-1]\n",
    "print(slicing)\n"
   ]
  },
  {
   "cell_type": "code",
   "execution_count": null,
   "metadata": {
    "colab": {
     "base_uri": "https://localhost:8080/"
    },
    "executionInfo": {
     "elapsed": 8,
     "status": "ok",
     "timestamp": 1755733627574,
     "user": {
      "displayName": "Pietro Fleith",
      "userId": "05944635742924198992"
     },
     "user_tz": 180
    },
    "id": "YLnj8WLI30ev",
    "outputId": "0c5afccd-cb0a-46fb-d72c-ce79312cce0b"
   },
   "outputs": [],
   "source": [
    "str = \"python programação\"\n",
    "slicing = str[10:6:-1]\n",
    "print(slicing)\n"
   ]
  },
  {
   "cell_type": "code",
   "execution_count": null,
   "metadata": {
    "colab": {
     "base_uri": "https://localhost:8080/"
    },
    "executionInfo": {
     "elapsed": 39,
     "status": "ok",
     "timestamp": 1755734018843,
     "user": {
      "displayName": "Pietro Fleith",
      "userId": "05944635742924198992"
     },
     "user_tz": 180
    },
    "id": "GTjT8jMj5Bs8",
    "outputId": "db842f1a-5d49-44f0-ae14-dd4661971d1f"
   },
   "outputs": [],
   "source": [
    "minha_string = \"exiba em letra maiuscula\"\n",
    "string_maiuscula = minha_string.upper()\n",
    "print(string_maiuscula)\n",
    "print(minha_string)\n"
   ]
  },
  {
   "cell_type": "code",
   "execution_count": null,
   "metadata": {
    "colab": {
     "base_uri": "https://localhost:8080/"
    },
    "executionInfo": {
     "elapsed": 37,
     "status": "ok",
     "timestamp": 1755734406296,
     "user": {
      "displayName": "Pietro Fleith",
      "userId": "05944635742924198992"
     },
     "user_tz": 180
    },
    "id": "5Kd1irm96r0c",
    "outputId": "fc39deff-868f-4995-a8e3-faebfb68b759"
   },
   "outputs": [],
   "source": [
    "string = \" programar é divertido\"\n",
    "substring = \"divertido\"\n",
    "index = string.find(substring)\n",
    "\n",
    "if index != -1:\n",
    "  print(f\"A substring '{substring}' foi encontrada na posição: {index}\")\n",
    "else:\n",
    "  print(f\"A substring '{substring}' não foi encontrada.\")\n"
   ]
  },
  {
   "cell_type": "code",
   "execution_count": null,
   "metadata": {
    "colab": {
     "base_uri": "https://localhost:8080/"
    },
    "executionInfo": {
     "elapsed": 35,
     "status": "ok",
     "timestamp": 1755734590295,
     "user": {
      "displayName": "Pietro Fleith",
      "userId": "05944635742924198992"
     },
     "user_tz": 180
    },
    "id": "eAMf6M2u7QpD",
    "outputId": "b251e150-ef0a-4423-ff7b-5119f4bd18dc"
   },
   "outputs": [],
   "source": [
    "texto = \"manipulação\"\n",
    "p_4 = texto[:4]\n",
    "print(p_4)\n"
   ]
  },
  {
   "cell_type": "markdown",
   "metadata": {
    "id": "y6-6142C8Cxr"
   },
   "source": [
    "exibir em ordem inversa"
   ]
  },
  {
   "cell_type": "code",
   "execution_count": null,
   "metadata": {
    "id": "fU7S48jl78yX"
   },
   "outputs": [],
   "source": [
    "def inverter_string(texto):\n",
    "  return texto[::-1]\n",
    "\n",
    "  string_original = \"olá mundo!\"\n",
    "  string_invertida = inverter_string(string_original)\n",
    "  print(f\"string original:{string_original}\")\n",
    "  print(f\"string invertida:{string_invertida}\")\n",
    "\n"
   ]
  },
  {
   "cell_type": "code",
   "execution_count": null,
   "metadata": {
    "colab": {
     "base_uri": "https://localhost:8080/"
    },
    "executionInfo": {
     "elapsed": 49,
     "status": "ok",
     "timestamp": 1755735035708,
     "user": {
      "displayName": "Pietro Fleith",
      "userId": "05944635742924198992"
     },
     "user_tz": 180
    },
    "id": "T78U-XR59gkV",
    "outputId": "455a819b-8f1a-4861-c0de-20e67a425f54"
   },
   "outputs": [],
   "source": [
    "def inverter_string(texto):\n",
    "  return texto[::-1]\n",
    "\n",
    "string_original = \"PYTHON!\"\n",
    "string_invertida = inverter_string(string_original)\n",
    "print(f\"String original: {string_original}\")\n",
    "print(f\"String invertida: {string_invertida}\")\n"
   ]
  },
  {
   "cell_type": "markdown",
   "metadata": {
    "id": "uaIjol039zZp"
   },
   "source": [
    "CONTAGEM QUANTAS VEZES A LETRA SE REPETE, EM COUNT"
   ]
  },
  {
   "cell_type": "code",
   "execution_count": null,
   "metadata": {
    "colab": {
     "base_uri": "https://localhost:8080/"
    },
    "executionInfo": {
     "elapsed": 32,
     "status": "ok",
     "timestamp": 1755736322169,
     "user": {
      "displayName": "Pietro Fleith",
      "userId": "05944635742924198992"
     },
     "user_tz": 180
    },
    "id": "78672q2B9lOJ",
    "outputId": "a028e508-4294-4ad1-b654-ffda27ca0c64"
   },
   "outputs": [],
   "source": [
    "texto = \"Esta é uma string. Esta string tem algumas palavras repetidas.\"\n",
    "palavra = \"string\"\n",
    "ocorrencias = texto.lower().split().count(palavra.lower())\n",
    "print(f\"A palavra '{palavra}' aparece {ocorrencias} vezes.\")"
   ]
  },
  {
   "cell_type": "markdown",
   "metadata": {
    "id": "lk5YNV2k98nU"
   },
   "source": [
    "CONTAGEM QUANTAS VEZES A LETRA SE REPETE, EM COUNTER"
   ]
  },
  {
   "cell_type": "code",
   "execution_count": null,
   "metadata": {
    "colab": {
     "base_uri": "https://localhost:8080/"
    },
    "executionInfo": {
     "elapsed": 23,
     "status": "ok",
     "timestamp": 1755736203383,
     "user": {
      "displayName": "Pietro Fleith",
      "userId": "05944635742924198992"
     },
     "user_tz": 180
    },
    "id": "n-RKKucR93bv",
    "outputId": "92268121-2856-4c8a-bd50-3eeefba52d5c"
   },
   "outputs": [],
   "source": [
    "from collections import Counter\n",
    "\n",
    "texto = \"programação é muito divertido\"\n",
    "palavras = texto.lower().split()\n",
    "contagem = Counter(palavras)\n",
    "palavra = \"\"\n",
    "ocorrencias = contagem[palavra]\n",
    "print(f\"A palavra '{palavras}' aparece {ocorrencias} vezes.\")"
   ]
  },
  {
   "cell_type": "code",
   "execution_count": null,
   "metadata": {
    "colab": {
     "base_uri": "https://localhost:8080/"
    },
    "executionInfo": {
     "elapsed": 67,
     "status": "ok",
     "timestamp": 1755735465644,
     "user": {
      "displayName": "Pietro Fleith",
      "userId": "05944635742924198992"
     },
     "user_tz": 180
    },
    "id": "oX8C3D0s9q65",
    "outputId": "193b196c-8945-4b8b-8e6c-9f811dbf2d90"
   },
   "outputs": [],
   "source": [
    "texto = \"Programação é muito divertido\"\n",
    "sub_string = texto[-9:] # Últimos 9 caracteres\n",
    "print(sub_string)"
   ]
  }
 ],
 "metadata": {
  "colab": {
   "authorship_tag": "ABX9TyMRyWMq07Tf6B8RvD6OCdv3",
   "provenance": []
  },
  "kernelspec": {
   "display_name": "Python 3 (ipykernel)",
   "language": "python",
   "name": "python3"
  }
 },
 "nbformat": 4,
 "nbformat_minor": 0
}
