{
 "cells": [
  {
   "cell_type": "code",
   "execution_count": 4,
   "metadata": {
    "colab": {
     "base_uri": "https://localhost:8080/",
     "height": 211
    },
    "executionInfo": {
     "elapsed": 15,
     "status": "error",
     "timestamp": 1759271561868,
     "user": {
      "displayName": "Pietro Fleith",
      "userId": "05944635742924198992"
     },
     "user_tz": 180
    },
    "id": "l13TyNA-t2mN",
    "outputId": "ff70ba6a-a841-4e2f-cf3b-f89f2eb854e9"
   },
   "outputs": [],
   "source": [
    "import math\n",
    "\n",
    "class quadrado:\n",
    "\n",
    "  def __init__(self, lado):\n",
    "\n",
    "    if lado <=0 :\n",
    "      raise ValueError(\"Lado deve ser positivo\")\n",
    "    self.lado = lado\n",
    "  def calcular_area(self):\n",
    "        return self.lado ** 2\n",
    "\n",
    "  def calcular_perimetro(self):\n",
    "          return self.lado * 4\n",
    "\n",
    "  def __str__(self):\n",
    "            return f\"objeto quadrado lado de : {self.lado}\"\n",
    "            \n",
    "\n"
   ]
  },
  {
   "cell_type": "code",
   "execution_count": 5,
   "metadata": {
    "id": "z44TXjYHw1fW"
   },
   "outputs": [
    {
     "name": "stdout",
     "output_type": "stream",
     "text": [
      "lado do quadrado:4\n",
      "area do quadrado: 16\n",
      "perimetro do quadrado:16\n",
      "imprimir o objeto\n",
      "objeto quadrado lado de : 4\n",
      "--------------------\n",
      "\n",
      "objeto quadrado lado de : 12.5\n",
      "area do segundo quadrado156.25\n"
     ]
    }
   ],
   "source": [
    "\n",
    "q1 = quadrado(4)\n",
    "\n",
    "print(f\"lado do quadrado:{q1.lado}\")\n",
    "print(f\"area do quadrado: {q1.calcular_area()}\")\n",
    "print(f\"perimetro do quadrado:{q1.calcular_perimetro()}\")\n",
    "print(\"imprimir o objeto\")\n",
    "print(q1)\n",
    "print(\"-\"* 20)\n",
    "q2 = quadrado(12.5)\n",
    "print()\n",
    "print(q2)\n",
    "print(f\"area do segundo quadrado{q2.calcular_area()}\")"
   ]
  },
  {
   "cell_type": "code",
   "execution_count": null,
   "metadata": {
    "id": "cVgMhWKlyAne"
   },
   "outputs": [],
   "source": []
  }
 ],
 "metadata": {
  "colab": {
   "authorship_tag": "ABX9TyP7IBPZLY8X6lzcXlGsEShJ",
   "provenance": [
    {
     "file_id": "16tDGxNA42oP0Bx74CpWuGJU4nAvbp7hC",
     "timestamp": 1759271996669
    }
   ]
  },
  "kernelspec": {
   "display_name": "Python 3 (ipykernel)",
   "language": "python",
   "name": "python3"
  }
 },
 "nbformat": 4,
 "nbformat_minor": 0
}
