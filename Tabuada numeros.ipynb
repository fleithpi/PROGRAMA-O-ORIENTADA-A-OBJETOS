{
 "cells": [
  {
   "cell_type": "code",
   "execution_count": null,
   "metadata": {
    "colab": {
     "base_uri": "https://localhost:8080/"
    },
    "executionInfo": {
     "elapsed": 473808,
     "status": "ok",
     "timestamp": 1759172957813,
     "user": {
      "displayName": "Pietro Fleith",
      "userId": "05944635742924198992"
     },
     "user_tz": 180
    },
    "id": "jor8BuoH0E7n",
    "outputId": "c642371a-e5d1-48af-ea3b-4143453a0500"
   },
   "outputs": [
    {
     "name": "stdout",
     "output_type": "stream",
     "text": [
      "Digite um número para ver a sua tabuada: 99\n",
      "\n",
      "--- Tabuada do 99 ---\n",
      "99 x 1 = 99\n",
      "99 x 2 = 198\n",
      "99 x 3 = 297\n",
      "99 x 4 = 396\n",
      "99 x 5 = 495\n",
      "99 x 6 = 594\n",
      "99 x 7 = 693\n",
      "99 x 8 = 792\n",
      "99 x 9 = 891\n",
      "99 x 10 = 990\n"
     ]
    }
   ],
   "source": [
    "try:\n",
    "    numero = int(input(\"Digite um número para ver a sua tabuada: \"))\n",
    "\n",
    "    print(f\"\\n--- Tabuada do {numero} ---\")\n",
    "\n",
    "    # O loop 'for' vai de 1 a 10\n",
    "    for i in range(1, 11):\n",
    "        # Calcula o resultado da multiplicação\n",
    "        resultado = numero * i\n",
    "        # Imprime o resultado formatado\n",
    "        print(f\"{numero} x {i} = {resultado}\")\n",
    "\n",
    "except ValueError:\n",
    "    print(\"Erro: Por favor, digite um número inteiro válido.\")"
   ]
  }
 ],
 "metadata": {
  "colab": {
   "authorship_tag": "ABX9TyNGd1vuuVDl3whuNnrH+Riz",
   "provenance": [
    {
     "file_id": "12v1wkr5w24s2jEHMRzvs4tYqCJj2vkvk",
     "timestamp": 1759177279863
    }
   ]
  },
  "kernelspec": {
   "display_name": "Python 3 (ipykernel)",
   "language": "python",
   "name": "python3"
  }
 },
 "nbformat": 4,
 "nbformat_minor": 0
}
