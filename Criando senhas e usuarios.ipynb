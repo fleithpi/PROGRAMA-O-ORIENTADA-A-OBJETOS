{
  "nbformat": 4,
  "nbformat_minor": 0,
  "metadata": {
    "colab": {
      "provenance": [],
      "authorship_tag": "ABX9TyOyv7UEZcvZvZoc/aSFA4kD",
      "include_colab_link": true
    },
    "kernelspec": {
      "name": "python3",
      "display_name": "Python 3"
    },
    "language_info": {
      "name": "python"
    }
  },
  "cells": [
    {
      "cell_type": "markdown",
      "metadata": {
        "id": "view-in-github",
        "colab_type": "text"
      },
      "source": [
        "<a href=\"https://colab.research.google.com/github/fleithpi/PROGRAMA-O-ORIENTADA-A-OBJETOS/blob/main/Criando%20senhas%20e%20usuarios.ipynb\" target=\"_parent\"><img src=\"https://colab.research.google.com/assets/colab-badge.svg\" alt=\"Open In Colab\"/></a>"
      ]
    },
    {
      "cell_type": "code",
      "execution_count": null,
      "metadata": {
        "id": "0XjUZ0Sv0Nme"
      },
      "outputs": [],
      "source": [
        "class Retangulo:\n",
        "    def __init__(self, largura, altura):\n",
        "        self.largura = largura\n",
        "        self.altura= altura\n",
        "\n",
        "    def calcular_area(self):\n",
        "        return self.largura * self.altura\n"
      ]
    },
    {
      "cell_type": "code",
      "source": [
        "retangulo = Retangulo(5, 3)\n",
        "area = retangulo.calcular_area ()\n",
        "print(area)"
      ],
      "metadata": {
        "colab": {
          "base_uri": "https://localhost:8080/"
        },
        "id": "l0iMPO3v1NyJ",
        "outputId": "f3450b11-f3a4-4247-83a5-912e2a86c7ba"
      },
      "execution_count": null,
      "outputs": [
        {
          "output_type": "stream",
          "name": "stdout",
          "text": [
            "15\n"
          ]
        }
      ]
    },
    {
      "cell_type": "code",
      "source": [
        "class Retangulo:\n",
        "    def __init__(self, largura, altura):\n",
        "        self.largura = largura\n",
        "        self.altura= altura\n",
        "\n",
        "    @property\n",
        "    def area(self):\n",
        "        return self.largura * self.altura"
      ],
      "metadata": {
        "id": "P9PAyZWd1ohq"
      },
      "execution_count": null,
      "outputs": []
    },
    {
      "cell_type": "code",
      "source": [
        "retangulo = Retangulo(5, 3)\n",
        "print(retangulo.area)\n"
      ],
      "metadata": {
        "colab": {
          "base_uri": "https://localhost:8080/"
        },
        "id": "Rn5xI1pA1xKy",
        "outputId": "c67e582c-7d63-443e-dc26-566577e689da"
      },
      "execution_count": null,
      "outputs": [
        {
          "output_type": "stream",
          "name": "stdout",
          "text": [
            "15\n"
          ]
        }
      ]
    },
    {
      "cell_type": "code",
      "source": [
        "class Termometo:\n",
        "    def __init__(self,celsius):\n",
        "      self._temp_celsius = celsius\n",
        "\n",
        "      print(f\"Novo termometo criado com {celsius}ºC\")\n",
        "\n",
        "    @property\n",
        "    def celsius(self):\n",
        "      return self._temp_celsius\n",
        "\n",
        "\n",
        "    @celsius.setter\n",
        "    def celsius(self, novo_celsius)\n",
        "        if novo_celsius < -273.15:\n",
        "            raise ValueError(\"Temperatura em Celsius não pode ser abaixo do Zero Absoluto (-273.15°C)\")\n",
        "        print(f\"Temperatura atualizada para {novo_celsius}°C.\")\n",
        "        self._temp_celsius = novo_celsius\n",
        "\n",
        "\n",
        "\n",
        "\n",
        "\n",
        "\n",
        "\n"
      ],
      "metadata": {
        "id": "u0PGwDuUAGqK"
      },
      "execution_count": null,
      "outputs": []
    },
    {
      "cell_type": "code",
      "source": [
        "class Termometro:\n",
        "    \"\"\"\n",
        "    Termômetro que usa o método 'property' para gerenciar\n",
        "    a temperatura em Celsius e Fahrenheit.\n",
        "    \"\"\"\n",
        "    def __init__(self, celsius):\n",
        "        # O self._temp_celsius é o atributo \"real\" que armazena o valor.\n",
        "        self._temp_celsius = celsius\n",
        "        print(f\"Novo termômetro criado com {celsius}°C\")\n",
        "\n",
        "    # --- Property para Celsius (@property) ---\n",
        "\n",
        "    @property\n",
        "    def celsius(self):\n",
        "        \"\"\"Método Getter para Celsius.\"\"\"\n",
        "        return self._temp_celsius\n",
        "\n",
        "    @celsius.setter\n",
        "    def celsius(self, novo_celsius):\n",
        "        \"\"\"Método Setter para Celsius: permite definir a temperatura em Celsius.\"\"\"\n",
        "        if novo_celsius < -273.15: # Zero Absoluto\n",
        "            raise ValueError(\"Temperatura em Celsius não pode ser abaixo do Zero Absoluto (-273.15°C)\")\n",
        "        print(f\"Temperatura atualizada para {novo_celsius}°C.\")\n",
        "        self._temp_celsius = novo_celsius\n",
        "\n",
        "    # --- Property para Fahrenheit ---\n",
        "\n",
        "    @property\n",
        "    def fahrenheit(self):\n",
        "        \"\"\"\n",
        "        Método Getter para Fahrenheit: calcula Fahrenheit em tempo real\n",
        "        com base no valor de Celsius.\n",
        "        \"\"\"\n",
        "        return (self._temp_celsius * 9/5) + 32\n",
        "\n",
        "    @fahrenheit.setter\n",
        "    def fahrenheit(self, novo_fahrenheit):\n",
        "        \"\"\"\n",
        "        Método Setter para Fahrenheit: converte o valor para Celsius\n",
        "        e o armazena no atributo 'real' (_temp_celsius).\n",
        "        \"\"\"\n",
        "        # Fórmula de conversão: C = (F - 32) * 5/9\n",
        "        novo_celsius = (novo_fahrenheit - 32) * 5/9\n",
        "\n",
        "        # Reutiliza o setter de Celsius para fazer a validação\n",
        "        self.celsius = novo_celsius\n",
        "\n",
        "\n",
        "# --- Demonstração do Uso ---\n",
        "\n",
        "# 1. Criação do objeto\n",
        "temp_casa = Termometro(celsius=25.0)\n",
        "\n",
        "# 2. Acessando como um atributo (usando o GETTER de Celsius e Fahrenheit)\n",
        "print(\"-\" * 30)\n",
        "print(f\"Temperatura atual em Celsius: {temp_casa.celsius}°C\")\n",
        "print(f\"Temperatura atual em Fahrenheit: {temp_casa.fahrenheit:.2f}°F\")\n",
        "\n",
        "\n",
        "# 3. Definindo um valor em Celsius (usando o SETTER de Celsius)\n",
        "print(\"-\" * 30)\n",
        "temp_casa.celsius = 30.5\n",
        "print(f\"Após definir Celsius, Fahrenheit é: {temp_casa.fahrenheit:.2f}°F\")\n",
        "\n",
        "\n",
        "# 4. Definindo um valor em Fahrenheit (usando o SETTER de Fahrenheit)\n",
        "print(\"-\" * 30)\n",
        "temp_casa.fahrenheit = 86.0 # 86°F é igual a 30°C\n",
        "print(f\"Após definir Fahrenheit, Celsius é: {temp_casa.celsius}°C\")\n",
        "\n",
        "\n",
        "# 5. Demonstração de Validação (Setter com Zero Absoluto)\n",
        "print(\"-\" * 30)\n",
        "try:\n",
        "    temp_casa.celsius = -300\n",
        "except ValueError as e:\n",
        "    print(f\"Erro de Validação Capturado: {e}\")"
      ],
      "metadata": {
        "id": "i2KfHye99Z8m",
        "outputId": "99417808-7b2b-4dc2-d334-65615ac90f25",
        "colab": {
          "base_uri": "https://localhost:8080/"
        }
      },
      "execution_count": 1,
      "outputs": [
        {
          "output_type": "stream",
          "name": "stdout",
          "text": [
            "Novo termômetro criado com 25.0°C\n",
            "------------------------------\n",
            "Temperatura atual em Celsius: 25.0°C\n",
            "Temperatura atual em Fahrenheit: 77.00°F\n",
            "------------------------------\n",
            "Temperatura atualizada para 30.5°C.\n",
            "Após definir Celsius, Fahrenheit é: 86.90°F\n",
            "------------------------------\n",
            "Temperatura atualizada para 30.0°C.\n",
            "Após definir Fahrenheit, Celsius é: 30.0°C\n",
            "------------------------------\n",
            "Erro de Validação Capturado: Temperatura em Celsius não pode ser abaixo do Zero Absoluto (-273.15°C)\n"
          ]
        }
      ]
    },
    {
      "cell_type": "code",
      "source": [
        "class Termometro:\n",
        "    \"\"\"\n",
        "    Termômetro que usa os métodos getter e setter tradicionais\n",
        "    para gerenciar a temperatura em Celsius e Fahrenheit.\n",
        "    \"\"\"\n",
        "    def __init__(self, celsius):\n",
        "        self._celsius = celsius\n",
        "\n",
        "    # --- Getter e Setter para Celsius ---\n",
        "\n",
        "    def get_celsius(self):\n",
        "        \"\"\"Retorna a temperatura em Celsius.\"\"\"\n",
        "        return self._celsius\n",
        "\n",
        "    def set_celsius(self, novo_celsius):\n",
        "        \"\"\"Define a temperatura em Celsius com validação.\"\"\"\n",
        "        if novo_celsius < -273.15:\n",
        "            raise ValueError(\"Temperatura não pode ser abaixo do Zero Absoluto (-273.15°C)\")\n",
        "        self._celsius = novo_celsius\n",
        "\n",
        "    # --- Getter e Setter para Fahrenheit ---\n",
        "\n",
        "    def get_fahrenheit(self):\n",
        "        \"\"\"Calcula e retorna a temperatura em Fahrenheit.\"\"\"\n",
        "        return (self._celsius * 9/5) + 32\n",
        "\n",
        "    def set_fahrenheit(self, novo_fahrenheit):\n",
        "        \"\"\"Define a temperatura em Fahrenheit, convertendo para Celsius.\"\"\"\n",
        "        novo_celsius = (novo_fahrenheit - 32) * 5/9\n",
        "        # Reutiliza o setter de Celsius para armazenar e validar\n",
        "        self.set_celsius(novo_celsius)\n",
        "\n",
        "\n",
        "# --- Demonstração do Uso ---\n",
        "\n",
        "# 1. Criação do objeto\n",
        "temp_exterior = Termometro(celsius=20.0)\n",
        "\n",
        "# 2. Acessando (usando os Getters)\n",
        "print(f\"Temperatura Inicial: {temp_exterior.get_celsius()}°C\")\n",
        "print(f\"Em Fahrenheit: {temp_exterior.get_fahrenheit():.2f}°F\")\n",
        "\n",
        "# 3. Alterando (usando os Setters)\n",
        "temp_exterior.set_celsius(28.5)\n",
        "print(f\"\\nNova leitura Celsius: {temp_exterior.get_celsius()}°C\")\n",
        "\n",
        "temp_exterior.set_fahrenheit(77.0) # 77°F = 25°C\n",
        "print(f\"\\nApós set_fahrenheit, Celsius é: {temp_exterior.get_celsius()}°C\")\n",
        "\n",
        "# 4. Demonstração de Validação\n",
        "try:\n",
        "    temp_exterior.set_celsius(-300)\n",
        "except ValueError as e:\n",
        "    print(f\"\\nErro: {e}\")"
      ],
      "metadata": {
        "id": "xK-1zKIsEgqO",
        "outputId": "17d151ff-18eb-4f0f-adb8-4a2f5e32536e",
        "colab": {
          "base_uri": "https://localhost:8080/"
        }
      },
      "execution_count": 2,
      "outputs": [
        {
          "output_type": "stream",
          "name": "stdout",
          "text": [
            "Temperatura Inicial: 20.0°C\n",
            "Em Fahrenheit: 68.00°F\n",
            "\n",
            "Nova leitura Celsius: 28.5°C\n",
            "\n",
            "Após set_fahrenheit, Celsius é: 25.0°C\n",
            "\n",
            "Erro: Temperatura não pode ser abaixo do Zero Absoluto (-273.15°C)\n"
          ]
        }
      ]
    },
    {
      "cell_type": "code",
      "source": [
        "import hashlib\n",
        "\n",
        "class usuario:\n",
        "\n",
        "  def __init__(self,senha,usuario,autenticar)\n",
        "\n",
        "\n",
        "    self._senha = None\n",
        "\n",
        "  def definir_senha(self, senha):\n",
        "    hash_senha = hashlib.sha256(senha.encode()).hexdigest()\n",
        "    self._senha = hash_senha\n",
        "\n",
        "\n",
        "\n",
        "\n",
        "\n",
        "\n",
        "\n"
      ],
      "metadata": {
        "id": "nSftltRWF9uS"
      },
      "execution_count": null,
      "outputs": []
    }
  ]
}