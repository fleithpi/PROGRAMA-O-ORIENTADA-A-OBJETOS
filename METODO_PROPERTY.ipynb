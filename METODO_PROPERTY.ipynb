{
  "nbformat": 4,
  "nbformat_minor": 0,
  "metadata": {
    "colab": {
      "provenance": [],
      "authorship_tag": "ABX9TyMx0DCQrjD5jjRB3YIXLk8Z",
      "include_colab_link": true
    },
    "kernelspec": {
      "name": "python3",
      "display_name": "Python 3"
    },
    "language_info": {
      "name": "python"
    }
  },
  "cells": [
    {
      "cell_type": "markdown",
      "metadata": {
        "id": "view-in-github",
        "colab_type": "text"
      },
      "source": [
        "<a href=\"https://colab.research.google.com/github/fleithpi/PROGRAMA-O-ORIENTADA-A-OBJETOS/blob/main/METODO_POVERTY.ipynb\" target=\"_parent\"><img src=\"https://colab.research.google.com/assets/colab-badge.svg\" alt=\"Open In Colab\"/></a>"
      ]
    },
    {
      "cell_type": "code",
      "execution_count": 1,
      "metadata": {
        "id": "0XjUZ0Sv0Nme"
      },
      "outputs": [],
      "source": [
        "class Retangulo:\n",
        "    def __init__(self, largura, altura):\n",
        "        self.largura = largura\n",
        "        self.altura= altura\n",
        "\n",
        "    def calcular_area(self):\n",
        "        return self.largura * self.altura\n"
      ]
    },
    {
      "cell_type": "code",
      "source": [
        "retangulo = Retangulo(5, 3)\n",
        "area = retangulo.calcular_area ()\n",
        "print(area)"
      ],
      "metadata": {
        "colab": {
          "base_uri": "https://localhost:8080/"
        },
        "id": "l0iMPO3v1NyJ",
        "outputId": "f3450b11-f3a4-4247-83a5-912e2a86c7ba"
      },
      "execution_count": 4,
      "outputs": [
        {
          "output_type": "stream",
          "name": "stdout",
          "text": [
            "15\n"
          ]
        }
      ]
    },
    {
      "cell_type": "code",
      "source": [
        "class Retangulo:\n",
        "    def __init__(self, largura, altura):\n",
        "        self.largura = largura\n",
        "        self.altura= altura\n",
        "\n",
        "    @property\n",
        "    def area(self):\n",
        "        return self.largura * self.altura"
      ],
      "metadata": {
        "id": "P9PAyZWd1ohq"
      },
      "execution_count": 5,
      "outputs": []
    },
    {
      "cell_type": "code",
      "source": [
        "retangulo = Retangulo(5, 3)\n",
        "print(retangulo.area)\n"
      ],
      "metadata": {
        "colab": {
          "base_uri": "https://localhost:8080/"
        },
        "id": "Rn5xI1pA1xKy",
        "outputId": "c67e582c-7d63-443e-dc26-566577e689da"
      },
      "execution_count": 6,
      "outputs": [
        {
          "output_type": "stream",
          "name": "stdout",
          "text": [
            "15\n"
          ]
        }
      ]
    }
  ]
}
