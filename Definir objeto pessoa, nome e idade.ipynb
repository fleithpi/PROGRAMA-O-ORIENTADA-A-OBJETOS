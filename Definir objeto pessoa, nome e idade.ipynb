{
  "cells": [
    {
      "cell_type": "code",
      "execution_count": null,
      "metadata": {
        "colab": {
          "base_uri": "https://localhost:8080/"
        },
        "id": "iH7khCz3-xqK",
        "outputId": "e4abacc7-7d22-4cfe-84ec-ca92b4180e04"
      },
      "outputs": [],
      "source": [
        "class Person:\n",
        "  def __init__(self, name, age):\n",
        "    self.name = name\n",
        "    self.age = age\n",
        "\n",
        "p1 = Person(\"John\", 36)\n",
        "\n",
        "print(p1.name)\n",
        "print(p1.age)\n",
        "\n"
      ]
    },
    {
      "cell_type": "code",
      "execution_count": null,
      "metadata": {
        "colab": {
          "base_uri": "https://localhost:8080/"
        },
        "id": "nbuiTvrqI19K",
        "outputId": "47a2723a-dc43-486e-9ab0-0fd29f3b2949"
      },
      "outputs": [],
      "source": [
        "class Quadrado:\n",
        "    def __init__(self, lado):\n",
        "        self.lado = lado\n",
        "\n",
        "    def calcular_area(self):\n",
        "        return self.lado * self.lado\n",
        "\n",
        "# Exemplo de uso:\n",
        "# 1. Crie um objeto da classe Quadrado\n",
        "meu_quadrado = Quadrado(5) # Define um quadrado com lado 5\n",
        "\n",
        "# 2. Chame o método para calcular a área\n",
        "area = meu_quadrado.calcular_area()\n",
        "\n",
        "# 3. Imprima o resultado\n",
        "print(f\"A área do quadrado é: {area}\") # A área do quadrado é:\n"
      ]
    },
    {
      "cell_type": "code",
      "execution_count": null,
      "metadata": {
        "colab": {
          "base_uri": "https://localhost:8080/"
        },
        "id": "AI66PjGNL0Ko",
        "outputId": "ce3dc93b-ceb9-4ad1-d1b7-68e6b568a90a"
      },
      "outputs": [],
      "source": [
        "class Quadrado:\n",
        "    def __init__(self, tamanho_lado):\n",
        "        # Atributo: Define o tamanho do lado do quadrado\n",
        "        self.tamanho_lado = tamanho_lado\n",
        "\n",
        "    def obter_lado(self):\n",
        "        # Método: Retorna o valor do lado do quadrado\n",
        "        return self.tamanho_lado\n",
        "\n",
        "    def definir_lado(self, novo_lado):\n",
        "        # Método: Muda o valor do lado do quadrado\n",
        "        self.tamanho_lado = novo_lado\n",
        "\n",
        "    def calcular_area(self):\n",
        "        # Método: Calcula a área do quadrado (lado * lado)\n",
        "        return self.tamanho_lado ** 2\n",
        "\n",
        "# Exemplo de uso da classe Quadrado\n",
        "meu_quadrado = Quadrado(5)  # Cria um quadrado com lado 5\n",
        "print(f\"Lado do quadrado: {meu_quadrado.obter_lado()}\")  # Saída: 5\n",
        "print(f\"Área do quadrado: {meu_quadrado.calcular_area()}\") # Saída: 25\n",
        "\n",
        "meu_quadrado.definir_lado(10) # Altera o lado para 10\n",
        "print(f\"Novo lado do quadrado: {meu_quadrado.obter_lado()}\") # Saída: 10\n",
        "print(f\"Nova área do quadrado: {meu_quadrado.calcular_area()}\") # Saída: 100\n"
      ]
    },
    {
      "cell_type": "code",
      "execution_count": null,
      "metadata": {
        "id": "bjmDByCuMf_F"
      },
      "outputs": [],
      "source": [
        "lass Quadrado:\n",
        "    def __init__(self, tamanho_lado):\n"
      ]
    },
    {
      "cell_type": "code",
      "execution_count": 3,
      "metadata": {
        "colab": {
          "base_uri": "https://localhost:8080/"
        },
        "id": "1T-769y8LKim",
        "outputId": "226d9aaf-890a-4979-ad89-014868f773d2"
      },
      "outputs": [],
      "source": [
        "def perimetro_quadrado(lado):\n",
        "  perimetro = 4 * lado\n",
        "  return perimetro\n",
        "\n",
        "# Exemplo de uso:\n",
        "# Se o lado do quadrado for 5 unidades:\n",
        "lado_do_quadrado = 5\n",
        "perimetro = perimetro_quadrado(lado_do_quadrado)\n",
        "print(f\"O perímetro do quadrado com lado {lado_do_quadrado} é {perimetro}\")"
      ]
    },
    {
      "cell_type": "code",
      "execution_count": null,
      "metadata": {
        "colab": {
          "base_uri": "https://localhost:8080/",
          "height": 176
        },
        "id": "DUwXNj6j_GnD",
        "outputId": "3845b738-60d2-49f5-8b7c-7820ef4f710a"
      },
      "outputs": [],
      "source": []
    },
    {
      "cell_type": "code",
      "execution_count": null,
      "metadata": {
        "colab": {
          "base_uri": "https://localhost:8080/",
          "height": 106
        },
        "id": "GPM4QRH0Apqb",
        "outputId": "2a5b3a4a-b6c1-43ca-8e1b-204ae033a633"
      },
      "outputs": [],
      "source": [
        "class ponto:\n",
        "  def __init__(self, x,y):\n",
        "    self.x = x\n",
        "    self.y = y\n",
        "\n",
        "  def calcular_distancia(self, outro):\n",
        "    return math sqrt((outro.x - self.x) **2 + (outro.y - self.y)**2)"
      ]
    },
    {
      "cell_type": "code",
      "execution_count": 10,
      "metadata": {
        "colab": {
          "base_uri": "https://localhost:8080/"
        },
        "id": "EQ8pTXuqBlZe",
        "outputId": "aa0fef34-be7b-461c-e1fb-d44c337a8ca1"
      },
      "outputs": [],
      "source": [
        "class Quadrado:\n",
        "  def __init__(self, lado):\n",
        "        self.lado = lado\n",
        "\n",
        "  def area (self):\n",
        "        return self.lado * self.lado\n",
        "\n",
        "  def perimetro (self):\n",
        "        return self.lado*4\n",
        "\n",
        "  def alterarlado (self, novolado):\n",
        "        self.lado = novolado\n",
        "        return self.lado\n",
        "  def verificarigualdade(self, outroquadrado):\n",
        "    if self.lado ==outroquadrado.lado:\n",
        "        return True\n",
        "    else:\n",
        "        return False\n",
        "\n",
        "q1 = Quadrado(2)\n",
        "q2 = Quadrado(1)\n",
        "print(q1.area())\n",
        "print(q1.perimetro())\n",
        "print(q1.alterarlado(3))\n",
        "print(q1.verificarigualdade(q2))\n",
        "\n",
        "\n",
        "\n"
      ]
    },
    {
      "cell_type": "code",
      "execution_count": 9,
      "metadata": {
        "colab": {
          "base_uri": "https://localhost:8080/",
          "height": 206
        },
        "id": "rVm8TKxujBk1",
        "outputId": "f488e4f7-04cc-4d7b-f805-9125213619ba"
      },
      "outputs": [],
      "source": [
        "import pandas as pd\n",
        "data = pd.read_csv(\"https://raw.githubusercontent.com/kb22/Heart-Disease-Prediction/master/dataset.csv\")\n",
        "data.head()"
      ]
    },
    {
      "cell_type": "code",
      "execution_count": 8,
      "metadata": {
        "colab": {
          "base_uri": "https://localhost:8080/",
          "height": 176
        },
        "id": "Q9nF6Akyj8_1",
        "outputId": "508c8392-2423-445b-d759-36a658cf9965"
      },
      "outputs": [],
      "source": [
        "from matplotlib import pyplot as plt\n",
        "_df_12['age'].plot(kind='line', figsize=(8, 4), title='age')\n",
        "plt.gca().spines[['top', 'right']].set_visible(False)"
      ]
    }
  ],
  "metadata": {
    "colab": {
      "authorship_tag": "ABX9TyPyI/1Fbvb3l+Pd9CK/RRGF",
      "include_colab_link": true,
      "provenance": []
    },
    "kernelspec": {
      "display_name": "Python 3 (ipykernel)",
      "language": "python",
      "name": "python3"
    }
  },
  "nbformat": 4,
  "nbformat_minor": 0
}
