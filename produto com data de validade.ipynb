{
  "nbformat": 4,
  "nbformat_minor": 0,
  "metadata": {
    "colab": {
      "provenance": [],
      "authorship_tag": "ABX9TyOXsT3HGsOrk7RmpWHW8nf+",
      "include_colab_link": true
    },
    "kernelspec": {
      "name": "python3",
      "display_name": "Python 3"
    },
    "language_info": {
      "name": "python"
    }
  },
  "cells": [
    {
      "cell_type": "markdown",
      "metadata": {
        "id": "view-in-github",
        "colab_type": "text"
      },
      "source": [
        "<a href=\"https://colab.research.google.com/github/fleithpi/PROGRAMA-O-ORIENTADA-A-OBJETOS/blob/main/produto%20com%20data%20de%20validade.ipynb\" target=\"_parent\"><img src=\"https://colab.research.google.com/assets/colab-badge.svg\" alt=\"Open In Colab\"/></a>"
      ]
    },
    {
      "cell_type": "code",
      "execution_count": 1,
      "metadata": {
        "colab": {
          "base_uri": "https://localhost:8080/",
          "height": 124
        },
        "id": "HgGliJ64BZnA",
        "outputId": "3a611606-91a7-4db1-d4d8-3f4b2193f4c0"
      },
      "outputs": [
        {
          "output_type": "error",
          "ename": "SyntaxError",
          "evalue": "invalid syntax. Perhaps you forgot a comma? (ipython-input-60219888.py, line 13)",
          "traceback": [
            "\u001b[0;36m  File \u001b[0;32m\"/tmp/ipython-input-60219888.py\"\u001b[0;36m, line \u001b[0;32m13\u001b[0m\n\u001b[0;31m    print(f'------IOGURTE '{sabor.sabor}{self.marca}' Registrado com validade de: '{data_validade_str}---)\u001b[0m\n\u001b[0m          ^\u001b[0m\n\u001b[0;31mSyntaxError\u001b[0m\u001b[0;31m:\u001b[0m invalid syntax. Perhaps you forgot a comma?\n"
          ]
        }
      ],
      "source": [
        "from datetime import datetime, timedelta\n",
        "\n",
        "\n",
        "\n",
        "class Iogurte:\n",
        "  def __init__(self, sabor: str, marca: str, data_validade_str: str):\n",
        "    self.sabor = sabor\n",
        "    self.marca = marca\n",
        "\n",
        "    #armazena a data da validade em um atributo. e converte string em date real\n",
        "    try:\n",
        "        self._data_validade = datetime.strptime(data_validade_str, \"%d/%m/%Y\").date()\n",
        "        print(f'------IOGURTE '{sabor.sabor}{self.marca}' Registrado com validade de: '{data_validade_str}---)\n",
        "    except ValueError:\n",
        "        print(f)\n",
        "        raise\n",
        "\n",
        "    @property\n",
        "    def data_validade_formatada(self) -->str:\n",
        "\n",
        "        print(f\"\\n(GETTER 'data_validade_formatada' foi chamado para {self.sabor}!)\")\n",
        "        return self._data_validade.strftime(\"%d de %B de %Y\")\n",
        "    @property\n",
        "    def esta_vencida(self) --> bool:\n",
        "\n"
      ]
    },
    {
      "cell_type": "code",
      "source": [
        "from datetime import date, datetime\n",
        "\n",
        "class Iogurte:\n",
        "    \"\"\"\n",
        "    Representa um iogurte registrado no mercado.\n",
        "    \"\"\"\n",
        "    def __init__(self, sabor: str, marca: str, data_validade_str: str):\n",
        "        \"\"\"\n",
        "        Construtor da classe Iogurte.\n",
        "        A data de validade é recebida como string no formato \"DD/MM/AAAA\".\n",
        "        \"\"\"\n",
        "        self.sabor = sabor\n",
        "        self.marca = marca\n",
        "\n",
        "        # 1. Armazenamos a data de validade em um atributo \"privado\".\n",
        "        #    A convenção em Python é usar um underscore '_' no início.\n",
        "        #    Nós convertemos a string em um objeto 'date' real.\n",
        "        try:\n",
        "            self._data_validade = datetime.strptime(data_validade_str, \"%d/%m/%Y\").date()\n",
        "            print(f\"--- Iogurte '{self.sabor} {self.marca}' registrado com validade: {data_validade_str} ---\")\n",
        "        except ValueError:\n",
        "            print(f\"Erro: Formato de data inválido '{data_validade_str}'. Use DD/MM/AAAA.\")\n",
        "            raise\n",
        "\n",
        "    @property\n",
        "    def data_validade_formatada(self) -> str:\n",
        "        \"\"\"\n",
        "        Este é um método GETTER (usando @property).\n",
        "        Ele 'pega' o valor de _data_validade e o formata.\n",
        "        Acessamos como: iogurte.data_validade_formatada\n",
        "        \"\"\"\n",
        "        print(f\"\\n(GETTER 'data_validade_formatada' foi chamado para {self.sabor}!)\")\n",
        "        return self._data_validade.strftime(\"%d de %B de %Y\")\n",
        "\n",
        "    @property\n",
        "    def esta_vencido(self) -> bool:\n",
        "        \"\"\"\n",
        "        Este é o principal método GETTER (usando @property).\n",
        "        Ele não armazena um valor; ele CALCULA um valor toda vez que é acessado.\n",
        "        Acessamos como: iogurte.esta_vencido\n",
        "        \"\"\"\n",
        "        print(f\"\\n(GETTER 'esta_vencido' foi chamado para {self.sabor}!)\")\n",
        "        print(f\"(Calculando: data de hoje > {self._data_validade.strftime('%d/%m/%Y')} ?)\")\n",
        "\n",
        "        hoje = date.today()\n",
        "        return hoje > self._data_validade\n",
        "\n",
        "# --- EXEMPLO DE USO ---\n",
        "\n",
        "# Para o exemplo funcionar, vamos definir a data de \"hoje\" (29/10/2025)\n",
        "# Se você rodar este código amanhã, os resultados podem mudar!\n",
        "print(f\"===== Simulação do dia: {date.today().strftime('%d/%m/%Y')} =====\")\n",
        "\n",
        "# 1. Criando um iogurte que AINDA ESTÁ NA VALIDADE\n",
        "# (Vence em 15 de novembro de 2025)\n",
        "iogurte_bom = Iogurte(sabor=\"Morango\", marca=\"MarcaA\", data_validade_str=\"15/11/2025\")\n",
        "\n",
        "# 2. Criando um iogurte que JÁ VENCEU\n",
        "# (Venceu em 1 de outubro de 2025)\n",
        "iogurte_vencido = Iogurte(sabor=\"Baunilha\", marca=\"MarcaB\", data_validade_str=\"01/10/2025\")\n",
        "\n",
        "print(\"\\n\" + \"=\"*40 + \"\\n\")\n",
        "\n",
        "# --- Verificando o Iogurte BOM ---\n",
        "print(f\"Verificando o iogurte de {iogurte_bom.sabor}...\")\n",
        "\n",
        "# Ao acessar 'iogurte_bom.esta_vencido', o método 'getter' @property é executado\n",
        "if iogurte_bom.esta_vencido:\n",
        "    print(f\"Resultado: CUIDADO! O iogurte de {iogurte_bom.sabor} ESTÁ VENCIDO.\")\n",
        "else:\n",
        "    print(f\"Resultado: Ótimo! O iogurte de {iogurte_bom.sabor} está bom para consumo.\")\n",
        "\n",
        "print(\"\\n\" + \"=\"*40 + \"\\n\")\n",
        "\n",
        "# --- Verificando o Iogurte VENCIDO ---\n",
        "print(f\"Verificando o iogurte de {iogurte_vencido.sabor}...\")\n",
        "\n",
        "# Acessamos 'esta_vencido' como se fosse um atributo comum,\n",
        "# mas o método 'getter' @property é executado novamente.\n",
        "if iogurte_vencido.esta_vencido:\n",
        "    print(f\"Resultado: CUIDADO! O iogurte de {iogurte_vencido.sabor} ESTÁ VENCIDO.\")\n",
        "else:\n",
        "    print(f\"Resultado: Ótimo! O iogurte de {iogurte_vencido.sabor} está bom para consumo.\")\n",
        "\n",
        "print(\"\\n\" + \"=\"*40 + \"\\n\")\n",
        "\n",
        "# --- Usando o outro getter ---\n",
        "print(\"Acessando o getter de formatação de data:\")\n",
        "# Acessamos 'data_validade_formatada' como um atributo\n",
        "print(f\"Validade do Iogurte Bom: {iogurte_bom.data_validade_formatada}\")"
      ],
      "metadata": {
        "colab": {
          "base_uri": "https://localhost:8080/"
        },
        "id": "jgJ1Iz6SFxW8",
        "outputId": "60f5f459-435e-4735-8f60-c1dfc395e0a9"
      },
      "execution_count": 2,
      "outputs": [
        {
          "output_type": "stream",
          "name": "stdout",
          "text": [
            "===== Simulação do dia: 29/10/2025 =====\n",
            "--- Iogurte 'Morango MarcaA' registrado com validade: 15/11/2025 ---\n",
            "--- Iogurte 'Baunilha MarcaB' registrado com validade: 01/10/2025 ---\n",
            "\n",
            "========================================\n",
            "\n",
            "Verificando o iogurte de Morango...\n",
            "\n",
            "(GETTER 'esta_vencido' foi chamado para Morango!)\n",
            "(Calculando: data de hoje > 15/11/2025 ?)\n",
            "Resultado: Ótimo! O iogurte de Morango está bom para consumo.\n",
            "\n",
            "========================================\n",
            "\n",
            "Verificando o iogurte de Baunilha...\n",
            "\n",
            "(GETTER 'esta_vencido' foi chamado para Baunilha!)\n",
            "(Calculando: data de hoje > 01/10/2025 ?)\n",
            "Resultado: CUIDADO! O iogurte de Baunilha ESTÁ VENCIDO.\n",
            "\n",
            "========================================\n",
            "\n",
            "Acessando o getter de formatação de data:\n",
            "\n",
            "(GETTER 'data_validade_formatada' foi chamado para Morango!)\n",
            "Validade do Iogurte Bom: 15 de November de 2025\n"
          ]
        }
      ]
    }
  ]
}