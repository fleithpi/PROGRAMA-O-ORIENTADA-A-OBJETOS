{
  "nbformat": 4,
  "nbformat_minor": 0,
  "metadata": {
    "colab": {
      "provenance": [],
      "authorship_tag": "ABX9TyNNiBFpDMLi6ZroXeHy5zub",
      "include_colab_link": true
    },
    "kernelspec": {
      "name": "python3",
      "display_name": "Python 3"
    },
    "language_info": {
      "name": "python"
    }
  },
  "cells": [
    {
      "cell_type": "markdown",
      "metadata": {
        "id": "view-in-github",
        "colab_type": "text"
      },
      "source": [
        "<a href=\"https://colab.research.google.com/github/fleithpi/PROGRAMA-O-ORIENTADA-A-OBJETOS/blob/main/Calcular_area_retangulo.ipynb\" target=\"_parent\"><img src=\"https://colab.research.google.com/assets/colab-badge.svg\" alt=\"Open In Colab\"/></a>"
      ]
    },
    {
      "cell_type": "code",
      "execution_count": 1,
      "metadata": {
        "id": "nQnTBqBuTsdP"
      },
      "outputs": [],
      "source": [
        "class Retangulo:\n",
        "    def __init__(self, largura, altura):\n",
        "        self.largura = largura\n",
        "        self.altura= altura\n",
        "\n",
        "    @property\n",
        "    def area(self):\n",
        "        return self.largura * self.altura"
      ]
    },
    {
      "cell_type": "code",
      "source": [
        "retangulo = Retangulo(5, 3)\n",
        "print(retangulo.area)\n"
      ],
      "metadata": {
        "colab": {
          "base_uri": "https://localhost:8080/"
        },
        "id": "KxIQW4OlWAY1",
        "outputId": "b4d5d7e1-9787-4b1a-8b80-8b70fb8a7253"
      },
      "execution_count": 2,
      "outputs": [
        {
          "output_type": "stream",
          "name": "stdout",
          "text": [
            "15\n"
          ]
        }
      ]
    },
    {
      "cell_type": "code",
      "source": [
        "class Retangulo:\n",
        "    def __init__(self, largura, altura):\n",
        "        # Os atributos internos são marcados com um sublinhado (_) para\n",
        "        # indicar que devem ser acessados apenas pelos métodos get/set\n",
        "        self._largura = largura\n",
        "        self._altura = altura\n",
        "\n",
        "    # --- Getter (Acessor) para Largura ---\n",
        "    def get_largura(self):\n",
        "        \"\"\"Retorna o valor atual da largura.\"\"\"\n",
        "        return self._largura\n",
        "\n",
        "    # --- Setter (Mutador) para Largura ---\n",
        "    def set_largura(self, nova_largura):\n",
        "        \"\"\"Define um novo valor para a largura.\"\"\"\n",
        "        if nova_largura > 0:\n",
        "            self._largura = nova_largura\n",
        "        else:\n",
        "            raise ValueError(\"A largura deve ser um valor positivo.\")\n",
        "\n",
        "    # --- Getter (Acessor) para Altura ---\n",
        "    def get_altura(self):\n",
        "        \"\"\"Retorna o valor atual da altura.\"\"\"\n",
        "        return self._altura\n",
        "\n",
        "    # --- Setter (Mutador) para Altura ---\n",
        "    def set_altura(self, nova_altura):\n",
        "        \"\"\"Define um novo valor para a altura.\"\"\"\n",
        "        if nova_altura > 0:\n",
        "            self._altura = nova_altura\n",
        "        else:\n",
        "            raise ValueError(\"A altura deve ser um valor positivo.\")\n",
        "\n",
        "    # --- Método para Área ---\n",
        "    def calcular_area(self):\n",
        "        \"\"\"Calcula e retorna a área do retângulo.\"\"\"\n",
        "        return self._largura * self._altura\n",
        "\n",
        "# --- Exemplo de Uso ---\n",
        "r = Retangulo(10, 5)\n",
        "\n",
        "# Acesso usando o getter (Acessor)\n",
        "print(f\"Largura inicial: {r.get_largura()}\")\n",
        "print(f\"Área inicial: {r.calcular_area()}\")\n",
        "\n",
        "# Modificação usando o setter (Mutador)\n",
        "r.set_largura(15)\n",
        "\n",
        "# Acesso após modificação\n",
        "print(f\"Nova largura: {r.get_largura()}\")\n",
        "print(f\"Nova área: {r.calcular_area()}\")"
      ],
      "metadata": {
        "colab": {
          "base_uri": "https://localhost:8080/"
        },
        "id": "wI87DnzqWLwW",
        "outputId": "e25909e1-4464-4d8d-9717-22d24658b097"
      },
      "execution_count": 3,
      "outputs": [
        {
          "output_type": "stream",
          "name": "stdout",
          "text": [
            "Largura inicial: 10\n",
            "Área inicial: 50\n",
            "Nova largura: 15\n",
            "Nova área: 75\n"
          ]
        }
      ]
    }
  ]
}